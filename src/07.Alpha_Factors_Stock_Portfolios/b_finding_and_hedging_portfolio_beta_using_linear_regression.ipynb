{
 "cells": [
  {
   "cell_type": "markdown",
   "id": "915d13af",
   "metadata": {},
   "source": [
    "## Finding and Hedging Portfolio Beta Using Linear Regression"
   ]
  },
  {
   "cell_type": "code",
   "execution_count": 41,
   "id": "6b68701b",
   "metadata": {},
   "outputs": [],
   "source": [
    "# !pip install statsmodels"
   ]
  },
  {
   "cell_type": "code",
   "execution_count": 42,
   "id": "87f6a032",
   "metadata": {},
   "outputs": [],
   "source": [
    "import matplotlib.pyplot as plt\n",
    "import numpy as np\n",
    "import pandas as pd\n",
    "import statsmodels.api as sm\n",
    "from IPython.display import Markdown, display\n",
    "from openbb import obb\n",
    "from statsmodels import regression"
   ]
  },
  {
   "cell_type": "code",
   "execution_count": 43,
   "id": "0cbacf37",
   "metadata": {},
   "outputs": [],
   "source": [
    "obb.user.preferences.output_type = \"dataframe\""
   ]
  },
  {
   "cell_type": "markdown",
   "id": "f8ae5043",
   "metadata": {},
   "source": [
    "Define the stock symbols including the benchmark \"SPY\""
   ]
  },
  {
   "cell_type": "code",
   "execution_count": 44,
   "id": "0ad36b85",
   "metadata": {},
   "outputs": [],
   "source": [
    "symbols = [\n",
    "    \"NEM\",\n",
    "    \"RGLD\",\n",
    "    \"SSRM\",\n",
    "    \"CDE\",\n",
    "    \"LLY\",\n",
    "    \"UNH\",\n",
    "    \"JNJ\",\n",
    "    \"MRK\",\n",
    "    \"SPY\",\n",
    "]"
   ]
  },
  {
   "cell_type": "markdown",
   "id": "b6eb4574",
   "metadata": {},
   "source": [
    "Fetch historical price data for the defined symbols from 2020-01-01 to 2022-12-31 using the \"yfinance\" provider"
   ]
  },
  {
   "cell_type": "code",
   "execution_count": 45,
   "id": "f42846d3",
   "metadata": {},
   "outputs": [],
   "source": [
    "data = obb.equity.price.historical(\n",
    "    symbols,\n",
    "    start_date=\"2020-01-01\",\n",
    "    end_date=\"2022-12-31\",\n",
    "    provider=\"yfinance\",\n",
    ").pivot(columns=\"symbol\", values=\"close\")"
   ]
  },
  {
   "cell_type": "code",
   "execution_count": 46,
   "id": "5a0b6874",
   "metadata": {},
   "outputs": [
    {
     "data": {
      "text/html": [
       "<div>\n",
       "<style scoped>\n",
       "    .dataframe tbody tr th:only-of-type {\n",
       "        vertical-align: middle;\n",
       "    }\n",
       "\n",
       "    .dataframe tbody tr th {\n",
       "        vertical-align: top;\n",
       "    }\n",
       "\n",
       "    .dataframe thead th {\n",
       "        text-align: right;\n",
       "    }\n",
       "</style>\n",
       "<table border=\"1\" class=\"dataframe\">\n",
       "  <thead>\n",
       "    <tr style=\"text-align: right;\">\n",
       "      <th>symbol</th>\n",
       "      <th>CDE</th>\n",
       "      <th>JNJ</th>\n",
       "      <th>LLY</th>\n",
       "      <th>MRK</th>\n",
       "      <th>NEM</th>\n",
       "      <th>RGLD</th>\n",
       "      <th>SPY</th>\n",
       "      <th>SSRM</th>\n",
       "      <th>UNH</th>\n",
       "    </tr>\n",
       "    <tr>\n",
       "      <th>date</th>\n",
       "      <th></th>\n",
       "      <th></th>\n",
       "      <th></th>\n",
       "      <th></th>\n",
       "      <th></th>\n",
       "      <th></th>\n",
       "      <th></th>\n",
       "      <th></th>\n",
       "      <th></th>\n",
       "    </tr>\n",
       "  </thead>\n",
       "  <tbody>\n",
       "    <tr>\n",
       "      <th>2020-01-02</th>\n",
       "      <td>7.81</td>\n",
       "      <td>145.970001</td>\n",
       "      <td>132.210007</td>\n",
       "      <td>87.824425</td>\n",
       "      <td>43.220001</td>\n",
       "      <td>121.120003</td>\n",
       "      <td>324.869995</td>\n",
       "      <td>18.969999</td>\n",
       "      <td>292.500000</td>\n",
       "    </tr>\n",
       "    <tr>\n",
       "      <th>2020-01-03</th>\n",
       "      <td>7.70</td>\n",
       "      <td>144.279999</td>\n",
       "      <td>131.770004</td>\n",
       "      <td>87.070610</td>\n",
       "      <td>42.830002</td>\n",
       "      <td>120.129997</td>\n",
       "      <td>322.410004</td>\n",
       "      <td>18.520000</td>\n",
       "      <td>289.540009</td>\n",
       "    </tr>\n",
       "    <tr>\n",
       "      <th>2020-01-06</th>\n",
       "      <td>6.93</td>\n",
       "      <td>144.100006</td>\n",
       "      <td>132.259995</td>\n",
       "      <td>87.442749</td>\n",
       "      <td>43.259998</td>\n",
       "      <td>118.809998</td>\n",
       "      <td>323.640015</td>\n",
       "      <td>18.370001</td>\n",
       "      <td>291.549988</td>\n",
       "    </tr>\n",
       "    <tr>\n",
       "      <th>2020-01-07</th>\n",
       "      <td>6.89</td>\n",
       "      <td>144.979996</td>\n",
       "      <td>132.509995</td>\n",
       "      <td>85.114502</td>\n",
       "      <td>43.230000</td>\n",
       "      <td>120.180000</td>\n",
       "      <td>322.730011</td>\n",
       "      <td>18.660000</td>\n",
       "      <td>289.790009</td>\n",
       "    </tr>\n",
       "    <tr>\n",
       "      <th>2020-01-08</th>\n",
       "      <td>6.29</td>\n",
       "      <td>144.960007</td>\n",
       "      <td>133.710007</td>\n",
       "      <td>84.541985</td>\n",
       "      <td>42.080002</td>\n",
       "      <td>111.599998</td>\n",
       "      <td>324.450012</td>\n",
       "      <td>18.219999</td>\n",
       "      <td>295.899994</td>\n",
       "    </tr>\n",
       "  </tbody>\n",
       "</table>\n",
       "</div>"
      ],
      "text/plain": [
       "symbol       CDE         JNJ         LLY        MRK        NEM        RGLD  \\\n",
       "date                                                                         \n",
       "2020-01-02  7.81  145.970001  132.210007  87.824425  43.220001  121.120003   \n",
       "2020-01-03  7.70  144.279999  131.770004  87.070610  42.830002  120.129997   \n",
       "2020-01-06  6.93  144.100006  132.259995  87.442749  43.259998  118.809998   \n",
       "2020-01-07  6.89  144.979996  132.509995  85.114502  43.230000  120.180000   \n",
       "2020-01-08  6.29  144.960007  133.710007  84.541985  42.080002  111.599998   \n",
       "\n",
       "symbol             SPY       SSRM         UNH  \n",
       "date                                           \n",
       "2020-01-02  324.869995  18.969999  292.500000  \n",
       "2020-01-03  322.410004  18.520000  289.540009  \n",
       "2020-01-06  323.640015  18.370001  291.549988  \n",
       "2020-01-07  322.730011  18.660000  289.790009  \n",
       "2020-01-08  324.450012  18.219999  295.899994  "
      ]
     },
     "execution_count": 46,
     "metadata": {},
     "output_type": "execute_result"
    }
   ],
   "source": [
    "data.head()"
   ]
  },
  {
   "cell_type": "markdown",
   "id": "6eada077",
   "metadata": {},
   "source": [
    "Calculate the daily percentage returns for the benchmark \"SPY\" and drop any missing values"
   ]
  },
  {
   "cell_type": "code",
   "execution_count": 47,
   "id": "3d11bbaf",
   "metadata": {},
   "outputs": [],
   "source": [
    "benchmark_returns = data.pop(\"SPY\").pct_change().dropna()"
   ]
  },
  {
   "cell_type": "code",
   "execution_count": 48,
   "id": "e45e16ae",
   "metadata": {},
   "outputs": [
    {
     "data": {
      "text/plain": [
       "date\n",
       "2020-01-03   -0.007572\n",
       "2020-01-06    0.003815\n",
       "2020-01-07   -0.002812\n",
       "2020-01-08    0.005330\n",
       "2020-01-09    0.006781\n",
       "                ...   \n",
       "2022-12-23    0.005752\n",
       "2022-12-27   -0.003944\n",
       "2022-12-28   -0.012428\n",
       "2022-12-29    0.018000\n",
       "2022-12-30   -0.002634\n",
       "Name: SPY, Length: 755, dtype: float64"
      ]
     },
     "execution_count": 48,
     "metadata": {},
     "output_type": "execute_result"
    }
   ],
   "source": [
    "benchmark_returns"
   ]
  },
  {
   "cell_type": "markdown",
   "id": "ec5d9063",
   "metadata": {},
   "source": [
    "Calculate the daily percentage returns for the portfolio and drop any missing values"
   ]
  },
  {
   "cell_type": "code",
   "execution_count": 49,
   "id": "c2567dc4",
   "metadata": {},
   "outputs": [
    {
     "data": {
      "text/html": [
       "<div>\n",
       "<style scoped>\n",
       "    .dataframe tbody tr th:only-of-type {\n",
       "        vertical-align: middle;\n",
       "    }\n",
       "\n",
       "    .dataframe tbody tr th {\n",
       "        vertical-align: top;\n",
       "    }\n",
       "\n",
       "    .dataframe thead th {\n",
       "        text-align: right;\n",
       "    }\n",
       "</style>\n",
       "<table border=\"1\" class=\"dataframe\">\n",
       "  <thead>\n",
       "    <tr style=\"text-align: right;\">\n",
       "      <th>symbol</th>\n",
       "      <th>CDE</th>\n",
       "      <th>JNJ</th>\n",
       "      <th>LLY</th>\n",
       "      <th>MRK</th>\n",
       "      <th>NEM</th>\n",
       "      <th>RGLD</th>\n",
       "      <th>SSRM</th>\n",
       "      <th>UNH</th>\n",
       "    </tr>\n",
       "    <tr>\n",
       "      <th>date</th>\n",
       "      <th></th>\n",
       "      <th></th>\n",
       "      <th></th>\n",
       "      <th></th>\n",
       "      <th></th>\n",
       "      <th></th>\n",
       "      <th></th>\n",
       "      <th></th>\n",
       "    </tr>\n",
       "  </thead>\n",
       "  <tbody>\n",
       "    <tr>\n",
       "      <th>2020-01-03</th>\n",
       "      <td>-0.014085</td>\n",
       "      <td>-0.011578</td>\n",
       "      <td>-0.003328</td>\n",
       "      <td>-0.008583</td>\n",
       "      <td>-0.009024</td>\n",
       "      <td>-0.008174</td>\n",
       "      <td>-0.023722</td>\n",
       "      <td>-0.010120</td>\n",
       "    </tr>\n",
       "    <tr>\n",
       "      <th>2020-01-06</th>\n",
       "      <td>-0.100000</td>\n",
       "      <td>-0.001248</td>\n",
       "      <td>0.003719</td>\n",
       "      <td>0.004274</td>\n",
       "      <td>0.010040</td>\n",
       "      <td>-0.010988</td>\n",
       "      <td>-0.008099</td>\n",
       "      <td>0.006942</td>\n",
       "    </tr>\n",
       "    <tr>\n",
       "      <th>2020-01-07</th>\n",
       "      <td>-0.005772</td>\n",
       "      <td>0.006107</td>\n",
       "      <td>0.001890</td>\n",
       "      <td>-0.026626</td>\n",
       "      <td>-0.000693</td>\n",
       "      <td>0.011531</td>\n",
       "      <td>0.015787</td>\n",
       "      <td>-0.006037</td>\n",
       "    </tr>\n",
       "    <tr>\n",
       "      <th>2020-01-08</th>\n",
       "      <td>-0.087083</td>\n",
       "      <td>-0.000138</td>\n",
       "      <td>0.009056</td>\n",
       "      <td>-0.006726</td>\n",
       "      <td>-0.026602</td>\n",
       "      <td>-0.071393</td>\n",
       "      <td>-0.023580</td>\n",
       "      <td>0.021084</td>\n",
       "    </tr>\n",
       "    <tr>\n",
       "      <th>2020-01-09</th>\n",
       "      <td>0.017488</td>\n",
       "      <td>0.002966</td>\n",
       "      <td>0.016528</td>\n",
       "      <td>0.008804</td>\n",
       "      <td>-0.009981</td>\n",
       "      <td>0.005287</td>\n",
       "      <td>-0.027442</td>\n",
       "      <td>-0.005678</td>\n",
       "    </tr>\n",
       "    <tr>\n",
       "      <th>...</th>\n",
       "      <td>...</td>\n",
       "      <td>...</td>\n",
       "      <td>...</td>\n",
       "      <td>...</td>\n",
       "      <td>...</td>\n",
       "      <td>...</td>\n",
       "      <td>...</td>\n",
       "      <td>...</td>\n",
       "    </tr>\n",
       "    <tr>\n",
       "      <th>2022-12-23</th>\n",
       "      <td>-0.011527</td>\n",
       "      <td>0.002542</td>\n",
       "      <td>0.007090</td>\n",
       "      <td>0.005574</td>\n",
       "      <td>0.007368</td>\n",
       "      <td>0.009393</td>\n",
       "      <td>0.008855</td>\n",
       "      <td>0.008006</td>\n",
       "    </tr>\n",
       "    <tr>\n",
       "      <th>2022-12-27</th>\n",
       "      <td>0.075802</td>\n",
       "      <td>-0.000282</td>\n",
       "      <td>-0.008209</td>\n",
       "      <td>0.002324</td>\n",
       "      <td>0.018809</td>\n",
       "      <td>0.013914</td>\n",
       "      <td>0.024451</td>\n",
       "      <td>0.001280</td>\n",
       "    </tr>\n",
       "    <tr>\n",
       "      <th>2022-12-28</th>\n",
       "      <td>-0.059621</td>\n",
       "      <td>-0.004340</td>\n",
       "      <td>0.000932</td>\n",
       "      <td>-0.009276</td>\n",
       "      <td>-0.028308</td>\n",
       "      <td>-0.025435</td>\n",
       "      <td>-0.039168</td>\n",
       "      <td>-0.006654</td>\n",
       "    </tr>\n",
       "    <tr>\n",
       "      <th>2022-12-29</th>\n",
       "      <td>0.008646</td>\n",
       "      <td>0.005094</td>\n",
       "      <td>0.004929</td>\n",
       "      <td>-0.002341</td>\n",
       "      <td>-0.000211</td>\n",
       "      <td>0.006726</td>\n",
       "      <td>0.001274</td>\n",
       "      <td>0.002706</td>\n",
       "    </tr>\n",
       "    <tr>\n",
       "      <th>2022-12-30</th>\n",
       "      <td>-0.040000</td>\n",
       "      <td>-0.005125</td>\n",
       "      <td>-0.003215</td>\n",
       "      <td>0.001173</td>\n",
       "      <td>-0.003378</td>\n",
       "      <td>0.004187</td>\n",
       "      <td>-0.003181</td>\n",
       "      <td>0.000566</td>\n",
       "    </tr>\n",
       "  </tbody>\n",
       "</table>\n",
       "<p>755 rows × 8 columns</p>\n",
       "</div>"
      ],
      "text/plain": [
       "symbol           CDE       JNJ       LLY       MRK       NEM      RGLD  \\\n",
       "date                                                                     \n",
       "2020-01-03 -0.014085 -0.011578 -0.003328 -0.008583 -0.009024 -0.008174   \n",
       "2020-01-06 -0.100000 -0.001248  0.003719  0.004274  0.010040 -0.010988   \n",
       "2020-01-07 -0.005772  0.006107  0.001890 -0.026626 -0.000693  0.011531   \n",
       "2020-01-08 -0.087083 -0.000138  0.009056 -0.006726 -0.026602 -0.071393   \n",
       "2020-01-09  0.017488  0.002966  0.016528  0.008804 -0.009981  0.005287   \n",
       "...              ...       ...       ...       ...       ...       ...   \n",
       "2022-12-23 -0.011527  0.002542  0.007090  0.005574  0.007368  0.009393   \n",
       "2022-12-27  0.075802 -0.000282 -0.008209  0.002324  0.018809  0.013914   \n",
       "2022-12-28 -0.059621 -0.004340  0.000932 -0.009276 -0.028308 -0.025435   \n",
       "2022-12-29  0.008646  0.005094  0.004929 -0.002341 -0.000211  0.006726   \n",
       "2022-12-30 -0.040000 -0.005125 -0.003215  0.001173 -0.003378  0.004187   \n",
       "\n",
       "symbol          SSRM       UNH  \n",
       "date                            \n",
       "2020-01-03 -0.023722 -0.010120  \n",
       "2020-01-06 -0.008099  0.006942  \n",
       "2020-01-07  0.015787 -0.006037  \n",
       "2020-01-08 -0.023580  0.021084  \n",
       "2020-01-09 -0.027442 -0.005678  \n",
       "...              ...       ...  \n",
       "2022-12-23  0.008855  0.008006  \n",
       "2022-12-27  0.024451  0.001280  \n",
       "2022-12-28 -0.039168 -0.006654  \n",
       "2022-12-29  0.001274  0.002706  \n",
       "2022-12-30 -0.003181  0.000566  \n",
       "\n",
       "[755 rows x 8 columns]"
      ]
     },
     "metadata": {},
     "output_type": "display_data"
    }
   ],
   "source": [
    "display(data.pct_change().dropna())"
   ]
  },
  {
   "cell_type": "code",
   "execution_count": 50,
   "id": "545dca50",
   "metadata": {},
   "outputs": [
    {
     "data": {
      "text/plain": [
       "date\n",
       "2020-01-03   -0.088612\n",
       "2020-01-06   -0.095361\n",
       "2020-01-07   -0.003813\n",
       "2020-01-08   -0.185381\n",
       "2020-01-09    0.007972\n",
       "                ...   \n",
       "2022-12-23    0.037300\n",
       "2022-12-27    0.128089\n",
       "2022-12-28   -0.171869\n",
       "2022-12-29    0.026823\n",
       "2022-12-30   -0.048973\n",
       "Name: portfolio, Length: 755, dtype: float64"
      ]
     },
     "execution_count": 50,
     "metadata": {},
     "output_type": "execute_result"
    }
   ],
   "source": [
    "portfolio_returns = data.pct_change().dropna().sum(axis=1)\n",
    "portfolio_returns.name = \"portfolio\"\n",
    "portfolio_returns"
   ]
  },
  {
   "cell_type": "markdown",
   "id": "97db70eb",
   "metadata": {},
   "source": [
    "Plot the portfolio and benchmark daily returns"
   ]
  },
  {
   "cell_type": "code",
   "execution_count": 51,
   "id": "e35eb93e",
   "metadata": {},
   "outputs": [
    {
     "data": {
      "image/png": "[encoded data removed]",
      "text/plain": [
       "<Figure size 640x480 with 1 Axes>"
      ]
     },
     "metadata": {},
     "output_type": "display_data"
    }
   ],
   "source": [
    "portfolio_returns.plot()\n",
    "benchmark_returns.plot()\n",
    "plt.ylabel(\"Daily Return\")\n",
    "plt.legend()\n",
    "plt.show()"
   ]
  },
  {
   "cell_type": "markdown",
   "id": "0f290aad",
   "metadata": {
    "lines_to_next_cell": 2
   },
   "source": [
    "Define a function for linear regression to calculate alpha and beta"
   ]
  },
  {
   "cell_type": "code",
   "execution_count": 52,
   "id": "3f3968ab",
   "metadata": {},
   "outputs": [],
   "source": [
    "def linreg(x: np.ndarray, y: np.ndarray) -> tuple[float, float]:\n",
    "    # Função que realiza regressão linear para calcular alpha e beta\n",
    "    \n",
    "    # Adiciona uma coluna de 1s para ajustar o alpha (intercepto)\n",
    "    x = sm.add_constant(x)\n",
    "    \n",
    "    # Cria e ajusta o modelo de regressão linear usando OLS (Ordinary Least Squares)\n",
    "    model = regression.linear_model.OLS(y, x).fit()\n",
    "    \n",
    "    # Remove a coluna constante após o ajuste\n",
    "    x = x[:, 1]\n",
    "    \n",
    "    # Retorna alpha (paro\n",
    "    # Beta representa o coeficiente angulams[0]) e beta (params[1])\n",
    "    # Alpha representa o intercepto da regressãar (sensibilidade ao benchmark)\n",
    "    return model.params[0], model.params[1]"
   ]
  },
  {
   "cell_type": "markdown",
   "id": "344a3b78",
   "metadata": {},
   "source": [
    "Perform linear regression on the portfolio and benchmark returns to calculate alpha and beta"
   ]
  },
  {
   "cell_type": "code",
   "execution_count": 53,
   "id": "863d6363",
   "metadata": {},
   "outputs": [],
   "source": [
    "X = benchmark_returns.values\n",
    "Y = portfolio_returns.values"
   ]
  },
  {
   "cell_type": "code",
   "execution_count": 54,
   "id": "aedfe028",
   "metadata": {},
   "outputs": [
    {
     "data": {
      "text/plain": [
       "numpy.ndarray"
      ]
     },
     "execution_count": 54,
     "metadata": {},
     "output_type": "execute_result"
    }
   ],
   "source": [
    "type(X)"
   ]
  },
  {
   "cell_type": "code",
   "execution_count": 55,
   "id": "329b00ca",
   "metadata": {},
   "outputs": [],
   "source": [
    "alpha, beta = linreg(X, Y)"
   ]
  },
  {
   "cell_type": "code",
   "execution_count": 56,
   "id": "004bcfa2",
   "metadata": {},
   "outputs": [
    {
     "data": {
      "text/plain": [
       "'Alpha: 0.002638518577761205'"
      ]
     },
     "metadata": {},
     "output_type": "display_data"
    },
    {
     "data": {
      "text/plain": [
       "'Beta: 5.551213060083568'"
      ]
     },
     "metadata": {},
     "output_type": "display_data"
    }
   ],
   "source": [
    "display(f\"Alpha: {alpha}\")\n",
    "display(f\"Beta: {beta}\")"
   ]
  },
  {
   "cell_type": "markdown",
   "id": "6c9d8cce",
   "metadata": {},
   "source": [
    "Plot the regression line"
   ]
  },
  {
   "cell_type": "code",
   "execution_count": 57,
   "id": "a96c2a6c",
   "metadata": {},
   "outputs": [],
   "source": [
    "X2 = np.linspace(X.min(), X.max(), 100)\n",
    "Y_hat = X2 * beta + alpha"
   ]
  },
  {
   "cell_type": "markdown",
   "id": "9a6c7c71",
   "metadata": {},
   "source": [
    "Plot the raw data"
   ]
  },
  {
   "cell_type": "code",
   "execution_count": 58,
   "id": "9b48d4ac",
   "metadata": {},
   "outputs": [
    {
     "data": {
      "image/png": "[encoded data removed]",
      "text/plain": [
       "<Figure size 640x480 with 1 Axes>"
      ]
     },
     "metadata": {},
     "output_type": "display_data"
    }
   ],
   "source": [
    "plt.scatter(X, Y, alpha=0.3)\n",
    "plt.xlabel(\"SPY daily return\")\n",
    "plt.ylabel(\"Portfolio daily return\")\n",
    "plt.plot(X2, Y_hat, \"r\", alpha=0.9)\n",
    "plt.show()"
   ]
  },
  {
   "cell_type": "markdown",
   "id": "23d052b8",
   "metadata": {},
   "source": [
    "Construct a portfolio with beta hedging"
   ]
  },
  {
   "cell_type": "code",
   "execution_count": 59,
   "id": "8059feca",
   "metadata": {},
   "outputs": [],
   "source": [
    "hedged_portfolio_returns = -1 * beta * benchmark_returns + portfolio_returns"
   ]
  },
  {
   "cell_type": "markdown",
   "id": "9363fc36",
   "metadata": {},
   "source": [
    "Perform linear regression on the hedged portfolio returns and benchmark returns to calculate alpha and beta"
   ]
  },
  {
   "cell_type": "code",
   "execution_count": 60,
   "id": "5574f4da",
   "metadata": {},
   "outputs": [],
   "source": [
    "P = hedged_portfolio_returns.values\n",
    "alpha, beta = linreg(X, P)"
   ]
  },
  {
   "cell_type": "code",
   "execution_count": 61,
   "id": "497a95a1",
   "metadata": {},
   "outputs": [
    {
     "data": {
      "text/plain": [
       "'Alpha: 0.002638518577761207'"
      ]
     },
     "metadata": {},
     "output_type": "display_data"
    },
    {
     "data": {
      "text/plain": [
       "'Beta: -3.2674600872195647e-15'"
      ]
     },
     "metadata": {},
     "output_type": "display_data"
    }
   ],
   "source": [
    "display(f\"Alpha: {alpha}\")\n",
    "display(f\"Beta: {beta}\")"
   ]
  },
  {
   "cell_type": "markdown",
   "id": "3a81552a",
   "metadata": {
    "lines_to_next_cell": 2
   },
   "source": [
    "Define a function to calculate the information ratio"
   ]
  },
  {
   "cell_type": "code",
   "execution_count": 62,
   "id": "1079c198",
   "metadata": {},
   "outputs": [],
   "source": [
    "def information_ratio(portfolio_returns, benchmark_returns):\n",
    "    \"\"\"\n",
    "    Determines the information ratio of a strategy.\n",
    "\n",
    "    Parameters\n",
    "    ----------\n",
    "    portfolio_returns : pd.Series or np.ndarray\n",
    "        Daily returns of the strategy, noncumulative.\n",
    "    benchmark_returns : int, float\n",
    "        Daily returns of the benchmark or factor, noncumulative.\n",
    "    Returns\n",
    "    -------\n",
    "    information_ratio : float\n",
    "    Note\n",
    "    -----\n",
    "    See https://pyquantnews.com/how-to-measure-skill-portfolio-manager/ for more details.\n",
    "    \"\"\"\n",
    "\n",
    "    active_return = portfolio_returns - benchmark_returns\n",
    "    tracking_error = active_return.std()\n",
    "    return active_return.mean() / tracking_error"
   ]
  },
  {
   "cell_type": "markdown",
   "id": "a12584e8",
   "metadata": {},
   "source": [
    "Calculate the information ratio for the hedged and unhedged portfolios"
   ]
  },
  {
   "cell_type": "code",
   "execution_count": 63,
   "id": "9ac1cedc",
   "metadata": {},
   "outputs": [],
   "source": [
    "hedged_ir = information_ratio(hedged_portfolio_returns, benchmark_returns)"
   ]
  },
  {
   "cell_type": "code",
   "execution_count": 64,
   "id": "fc39e40f",
   "metadata": {},
   "outputs": [],
   "source": [
    "unhedged_ir = information_ratio(portfolio_returns, benchmark_returns)"
   ]
  },
  {
   "cell_type": "code",
   "execution_count": 65,
   "id": "d8814e73",
   "metadata": {},
   "outputs": [
    {
     "data": {
      "text/plain": [
       "'Hedged information ratio: 0.019857076696277613'"
      ]
     },
     "metadata": {},
     "output_type": "display_data"
    },
    {
     "data": {
      "text/plain": [
       "'Unhedged information ratio: 0.030991554126598403'"
      ]
     },
     "metadata": {},
     "output_type": "display_data"
    }
   ],
   "source": [
    "display(f\"Hedged information ratio: {hedged_ir}\")\n",
    "display(f\"Unhedged information ratio: {unhedged_ir}\")"
   ]
  },
  {
   "cell_type": "markdown",
   "id": "3bd2158d",
   "metadata": {},
   "source": [
    "**Jason Strimpel** is the founder of <a href='https://pyquantnews.com/'>PyQuant News</a> and co-founder of <a href='https://www.tradeblotter.io/'>Trade Blotter</a>. His career in algorithmic trading spans 20+ years. He previously traded for a Chicago-based hedge fund, was a risk manager at JPMorgan, and managed production risk technology for an energy derivatives trading firm in London. In Singapore, he served as APAC CIO for an agricultural trading firm and built the data science team for a global metals trading firm. Jason holds degrees in Finance and Economics and a Master's in Quantitative Finance from the Illinois Institute of Technology. His career spans America, Europe, and Asia. He shares his expertise through the <a href='https://pyquantnews.com/subscribe-to-the-pyquant-newsletter/'>PyQuant Newsletter</a>, social media, and has taught over 1,000+ algorithmic trading with Python in his popular course **<a href='https://gettingstartedwithpythonforquantfinance.com/'>Getting Started With Python for Quant Finance</a>**. All code is for educational purposes only. Nothing provided here is financial advise. Use at your own risk."
   ]
  },
  {
   "cell_type": "code",
   "execution_count": null,
   "id": "0f3e1508-6ab5-4592-bcac-bebf4742ffa5",
   "metadata": {},
   "outputs": [],
   "source": []
  }
 ],
 "metadata": {
  "jupytext": {
   "cell_metadata_filter": "-all",
   "main_language": "python",
   "notebook_metadata_filter": "-all"
  },
  "kernelspec": {
   "display_name": "algo-trading",
   "language": "python",
   "name": "python3"
  },
  "language_info": {
   "codemirror_mode": {
    "name": "ipython",
    "version": 3
   },
   "file_extension": ".py",
   "mimetype": "text/x-python",
   "name": "python",
   "nbconvert_exporter": "python",
   "pygments_lexer": "ipython3",
   "version": "3.10.16"
  }
 },
 "nbformat": 4,
 "nbformat_minor": 5
}
