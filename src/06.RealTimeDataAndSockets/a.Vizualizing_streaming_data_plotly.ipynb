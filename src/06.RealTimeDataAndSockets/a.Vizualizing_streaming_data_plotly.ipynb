{
 "cells": [
  {
   "cell_type": "code",
   "execution_count": 24,
   "metadata": {},
   "outputs": [],
   "source": [
    "import zmq\n",
    "from datetime import datetime\n",
    "import plotly.graph_objects as go"
   ]
  },
  {
   "cell_type": "code",
   "execution_count": 25,
   "metadata": {},
   "outputs": [],
   "source": [
    "symbol = 'SYMBOL'"
   ]
  },
  {
   "cell_type": "code",
   "execution_count": 26,
   "metadata": {},
   "outputs": [
    {
     "data": {
      "application/vnd.jupyter.widget-view+json": {
       "model_id": "1f862a65395d4234b393826d72c10f24",
       "version_major": 2,
       "version_minor": 0
      },
      "text/plain": [
       "FigureWidget({\n",
       "    'data': [{'type': 'scatter', 'uid': '305a9d49-a222-4454-bd33-c2c384a84477'}], 'layout': {'template': '...'}\n",
       "})"
      ]
     },
     "execution_count": 26,
     "metadata": {},
     "output_type": "execute_result"
    }
   ],
   "source": [
    "# Criando um widget de figura interativa do Plotly\n",
    "fig = go.FigureWidget()\n",
    "# Adicionando um gráfico de dispersão vazio\n",
    "fig.add_scatter()\n",
    "# Exibindo a figura\n",
    "fig"
   ]
  },
  {
   "cell_type": "code",
   "execution_count": 27,
   "metadata": {},
   "outputs": [],
   "source": [
    "# Criando contexto ZMQ para comunicação via sockets\n",
    "context = zmq.Context()\n",
    "# Criando socket do tipo Subscriber\n",
    "socket = context.socket(zmq.SUB)\n",
    "# Conectando ao servidor na porta 5555\n",
    "socket.connect('tcp://0.0.0.0:5555')\n",
    "# Inscrevendo-se para receber mensagens com prefixo 'SYMBOL'\n",
    "socket.setsockopt_string(zmq.SUBSCRIBE, 'SYMBOL')"
   ]
  },
  {
   "cell_type": "code",
   "execution_count": 28,
   "metadata": {},
   "outputs": [
    {
     "ename": "KeyboardInterrupt",
     "evalue": "",
     "output_type": "error",
     "traceback": [
      "\u001b[0;31m---------------------------------------------------------------------------\u001b[0m",
      "\u001b[0;31mKeyboardInterrupt\u001b[0m                         Traceback (most recent call last)",
      "Cell \u001b[0;32mIn[28], line 6\u001b[0m\n\u001b[1;32m      2\u001b[0m prices \u001b[38;5;241m=\u001b[39m \u001b[38;5;28mlist\u001b[39m()\n\u001b[1;32m      4\u001b[0m \u001b[38;5;28;01mfor\u001b[39;00m _ \u001b[38;5;129;01min\u001b[39;00m \u001b[38;5;28mrange\u001b[39m(\u001b[38;5;241m50\u001b[39m):\n\u001b[1;32m      5\u001b[0m     \u001b[38;5;66;03m# Recebe a mensagem do socket\u001b[39;00m\n\u001b[0;32m----> 6\u001b[0m     msg \u001b[38;5;241m=\u001b[39m \u001b[43msocket\u001b[49m\u001b[38;5;241;43m.\u001b[39;49m\u001b[43mrecv_string\u001b[49m\u001b[43m(\u001b[49m\u001b[43m)\u001b[49m\n\u001b[1;32m      7\u001b[0m     \u001b[38;5;66;03m# Obtém o timestamp atual\u001b[39;00m\n\u001b[1;32m      8\u001b[0m     t \u001b[38;5;241m=\u001b[39m datetime\u001b[38;5;241m.\u001b[39mnow()\n",
      "File \u001b[0;32m~/miniforge3/envs/algo-trading/lib/python3.10/site-packages/zmq/sugar/socket.py:937\u001b[0m, in \u001b[0;36mSocket.recv_string\u001b[0;34m(self, flags, encoding)\u001b[0m\n\u001b[1;32m    917\u001b[0m \u001b[38;5;28;01mdef\u001b[39;00m\u001b[38;5;250m \u001b[39m\u001b[38;5;21mrecv_string\u001b[39m(\u001b[38;5;28mself\u001b[39m, flags: \u001b[38;5;28mint\u001b[39m \u001b[38;5;241m=\u001b[39m \u001b[38;5;241m0\u001b[39m, encoding: \u001b[38;5;28mstr\u001b[39m \u001b[38;5;241m=\u001b[39m \u001b[38;5;124m'\u001b[39m\u001b[38;5;124mutf-8\u001b[39m\u001b[38;5;124m'\u001b[39m) \u001b[38;5;241m-\u001b[39m\u001b[38;5;241m>\u001b[39m \u001b[38;5;28mstr\u001b[39m:\n\u001b[1;32m    918\u001b[0m \u001b[38;5;250m    \u001b[39m\u001b[38;5;124;03m\"\"\"Receive a unicode string, as sent by send_string.\u001b[39;00m\n\u001b[1;32m    919\u001b[0m \n\u001b[1;32m    920\u001b[0m \u001b[38;5;124;03m    Parameters\u001b[39;00m\n\u001b[0;32m   (...)\u001b[0m\n\u001b[1;32m    935\u001b[0m \u001b[38;5;124;03m        for any of the reasons :func:`Socket.recv` might fail\u001b[39;00m\n\u001b[1;32m    936\u001b[0m \u001b[38;5;124;03m    \"\"\"\u001b[39;00m\n\u001b[0;32m--> 937\u001b[0m     msg \u001b[38;5;241m=\u001b[39m \u001b[38;5;28;43mself\u001b[39;49m\u001b[38;5;241;43m.\u001b[39;49m\u001b[43mrecv\u001b[49m\u001b[43m(\u001b[49m\u001b[43mflags\u001b[49m\u001b[38;5;241;43m=\u001b[39;49m\u001b[43mflags\u001b[49m\u001b[43m)\u001b[49m\n\u001b[1;32m    938\u001b[0m     \u001b[38;5;28;01mreturn\u001b[39;00m \u001b[38;5;28mself\u001b[39m\u001b[38;5;241m.\u001b[39m_deserialize(msg, \u001b[38;5;28;01mlambda\u001b[39;00m buf: buf\u001b[38;5;241m.\u001b[39mdecode(encoding))\n",
      "File \u001b[0;32m_zmq.py:1156\u001b[0m, in \u001b[0;36mzmq.backend.cython._zmq.Socket.recv\u001b[0;34m()\u001b[0m\n",
      "File \u001b[0;32m_zmq.py:1191\u001b[0m, in \u001b[0;36mzmq.backend.cython._zmq.Socket.recv\u001b[0;34m()\u001b[0m\n",
      "File \u001b[0;32m_zmq.py:1278\u001b[0m, in \u001b[0;36mzmq.backend.cython._zmq._recv_copy\u001b[0;34m()\u001b[0m\n",
      "File \u001b[0;32m_zmq.py:160\u001b[0m, in \u001b[0;36mzmq.backend.cython._zmq._check_rc\u001b[0;34m()\u001b[0m\n",
      "\u001b[0;31mKeyboardInterrupt\u001b[0m: "
     ]
    }
   ],
   "source": [
    "times = list()\n",
    "prices = list()\n",
    "\n",
    "for _ in range(50):\n",
    "    # Recebe a mensagem do socket\n",
    "    msg = socket.recv_string()\n",
    "    # Obtém o timestamp atual\n",
    "    t = datetime.now()\n",
    "    # Adiciona o timestamp à lista de tempos\n",
    "    times.append(t)\n",
    "    # Separa a mensagem e extrai o preço\n",
    "    _, price = msg.split()\n",
    "    # Adiciona o preço à lista de preços\n",
    "    prices.append(float(price))\n",
    "    # Atualiza os dados do eixo X do gráfico\n",
    "    fig.data[0].x = times\n",
    "    # Atualiza os dados do eixo Y do gráfico \n",
    "    fig.data[0].y = prices"
   ]
  },
  {
   "cell_type": "code",
   "execution_count": 17,
   "metadata": {},
   "outputs": [
    {
     "data": {
      "application/vnd.jupyter.widget-view+json": {
       "model_id": "3e9d85fa1ca84b1f91988599326ac40d",
       "version_major": 2,
       "version_minor": 0
      },
      "text/plain": [
       "FigureWidget({\n",
       "    'data': [{'type': 'scatter',\n",
       "              'uid': '25d7e0fe-39f7-4e3c-9682-29dc783efce2',\n",
       "              'x': [2025-03-06 12:45:38.605002, 2025-03-06 12:45:39.647292,\n",
       "                    2025-03-06 12:45:39.912337, 2025-03-06 12:45:41.049802,\n",
       "                    2025-03-06 12:45:41.417358, 2025-03-06 12:45:41.705261,\n",
       "                    2025-03-06 12:45:42.364930, 2025-03-06 12:45:43.030797,\n",
       "                    2025-03-06 12:45:44.660946, 2025-03-06 12:45:45.875809,\n",
       "                    2025-03-06 12:45:46.653225, 2025-03-06 12:45:48.360172,\n",
       "                    2025-03-06 12:45:49.307706, 2025-03-06 12:45:49.535420,\n",
       "                    2025-03-06 12:45:49.801821, 2025-03-06 12:45:51.741617,\n",
       "                    2025-03-06 12:45:52.380426, 2025-03-06 12:45:53.242314,\n",
       "                    2025-03-06 12:45:54.579193, 2025-03-06 12:45:56.126269,\n",
       "                    2025-03-06 12:45:56.411774, 2025-03-06 12:45:56.808624,\n",
       "                    2025-03-06 12:45:57.760682, 2025-03-06 12:45:59.070911,\n",
       "                    2025-03-06 12:45:59.543495, 2025-03-06 12:46:00.178046,\n",
       "                    2025-03-06 12:46:01.561604, 2025-03-06 12:46:03.402465,\n",
       "                    2025-03-06 12:46:04.832216, 2025-03-06 12:46:06.546483,\n",
       "                    2025-03-06 12:46:07.042380, 2025-03-06 12:46:07.596966,\n",
       "                    2025-03-06 12:46:09.389794, 2025-03-06 12:46:10.323030,\n",
       "                    2025-03-06 12:46:11.418347, 2025-03-06 12:46:12.782845,\n",
       "                    2025-03-06 12:46:14.308489, 2025-03-06 12:46:14.957643,\n",
       "                    2025-03-06 12:46:15.391941, 2025-03-06 12:46:15.534917,\n",
       "                    2025-03-06 12:46:16.370765, 2025-03-06 12:46:17.536763,\n",
       "                    2025-03-06 12:46:18.682515, 2025-03-06 12:46:20.059662,\n",
       "                    2025-03-06 12:46:21.148956, 2025-03-06 12:46:22.592656,\n",
       "                    2025-03-06 12:46:23.154316, 2025-03-06 12:46:23.421724,\n",
       "                    2025-03-06 12:46:24.365911, 2025-03-06 12:46:25.021332],\n",
       "              'y': [99.55, 100.12, 99.94, 99.65, 99.37, 99.41, 99.12, 99.23,\n",
       "                    99.93, 100.24, 100.37, 100.24, 100.15, 100.14, 100.04, 100.04,\n",
       "                    99.84, 99.75, 100.47, 100.09, 100.32, 100.21, 99.76, 99.63,\n",
       "                    99.89, 99.31, 99.32, 100.03, 100.03, 100.06, 99.86, 100.35,\n",
       "                    100.53, 100.39, 100.83, 100.64, 100.46, 100.2, 100.31, 100.43,\n",
       "                    100.19, 100.29, 99.92, 100.23, 100.14, 100.7, 100.8, 100.67,\n",
       "                    100.3, 100.33]}],\n",
       "    'layout': {'template': '...'}\n",
       "})"
      ]
     },
     "execution_count": 17,
     "metadata": {},
     "output_type": "execute_result"
    }
   ],
   "source": []
  },
  {
   "cell_type": "code",
   "execution_count": null,
   "metadata": {},
   "outputs": [],
   "source": []
  }
 ],
 "metadata": {
  "kernelspec": {
   "display_name": "algo-trading",
   "language": "python",
   "name": "python3"
  },
  "language_info": {
   "codemirror_mode": {
    "name": "ipython",
    "version": 3
   },
   "file_extension": ".py",
   "mimetype": "text/x-python",
   "name": "python",
   "nbconvert_exporter": "python",
   "pygments_lexer": "ipython3",
   "version": "3.10.16"
  }
 },
 "nbformat": 4,
 "nbformat_minor": 2
}
