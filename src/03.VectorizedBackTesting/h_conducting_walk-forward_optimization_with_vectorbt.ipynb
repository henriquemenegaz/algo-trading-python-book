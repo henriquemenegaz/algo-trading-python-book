{
 "cells": [
  {
   "cell_type": "markdown",
   "id": "82169ccb",
   "metadata": {},
   "source": [
    "## Conducting Walk-Forward Optimization with VectorBT"
   ]
  },
  {
   "cell_type": "code",
   "execution_count": 1,
   "id": "d789ce16",
   "metadata": {},
   "outputs": [],
   "source": [
    "import numpy as np\n",
    "import scipy.stats as stats\n",
    "import vectorbt as vbt\n",
    "from IPython.display import Markdown, display"
   ]
  },
  {
   "cell_type": "markdown",
   "id": "1f282989",
   "metadata": {},
   "source": [
    "Define the start and end dates for data download"
   ]
  },
  {
   "cell_type": "code",
   "execution_count": 2,
   "id": "8780abd4",
   "metadata": {},
   "outputs": [],
   "source": [
    "start = \"2016-01-01 UTC\"\n",
    "end = \"2020-01-01 UTC\""
   ]
  },
  {
   "cell_type": "markdown",
   "id": "26027af9",
   "metadata": {},
   "source": [
    "Download historical closing prices for the symbol \"AAPL\" from Yahoo Finance"
   ]
  },
  {
   "cell_type": "code",
   "execution_count": 3,
   "id": "04c21a95",
   "metadata": {},
   "outputs": [],
   "source": [
    "prices = vbt.YFData.download(\"AAPL\", start=start, end=end).get(\"Close\")"
   ]
  },
  {
   "cell_type": "markdown",
   "id": "ca826e83",
   "metadata": {},
   "source": [
    "Split the prices data into in-sample and out-of-sample sets"
   ]
  },
  {
   "cell_type": "code",
   "execution_count": 4,
   "id": "51a50070",
   "metadata": {},
   "outputs": [],
   "source": [
    "# Divide os preços em conjuntos de treino (in-sample) e teste (out-of-sample)\n",
    "# n=30: número de divisões\n",
    "# window_len=365*2: tamanho da janela de 2 anos\n",
    "# set_lens=(180,): tamanho do conjunto de teste de 180 dias\n",
    "# left_to_right=False: divisão da direita para esquerda\n",
    "(in_price, in_indexes), (out_price, out_indexes) = prices.vbt.rolling_split(\n",
    "    n=30,\n",
    "    window_len=365 * 2,\n",
    "    set_lens=(180,),\n",
    "    left_to_right=False,\n",
    ")"
   ]
  },
  {
   "cell_type": "markdown",
   "id": "6f483d1f",
   "metadata": {
    "lines_to_next_cell": 2
   },
   "source": [
    "Function to simulate all parameter combinations and calculate Sharpe ratios"
   ]
  },
  {
   "cell_type": "code",
   "execution_count": 5,
   "id": "63255845",
   "metadata": {
    "lines_to_next_cell": 2
   },
   "outputs": [],
   "source": [
    "def simulate_all_params(price, windows, **kwargs):\n",
    "    # Executa todas as combinações possíveis de médias móveis\n",
    "    # price: série de preços\n",
    "    # windows: array com os tamanhos das janelas\n",
    "    # kwargs: argumentos adicionais para o Portfolio\n",
    "    fast_ma, slow_ma = vbt.MA.run_combs(\n",
    "        price, windows, r=2, short_names=[\"fast\", \"slow\"]\n",
    "    )\n",
    "    # Gera sinais de entrada quando a média rápida cruza acima da lenta\n",
    "    entries = fast_ma.ma_crossed_above(slow_ma)\n",
    "    # Gera sinais de saída quando a média rápida cruza abaixo da lenta  \n",
    "    exits = fast_ma.ma_crossed_below(slow_ma)\n",
    "    # Cria um portfólio com os sinais gerados\n",
    "    pf = vbt.Portfolio.from_signals(price, entries, exits, **kwargs)\n",
    "    # Retorna o Sharpe ratio do portfólio\n",
    "    return pf.sharpe_ratio()"
   ]
  },
  {
   "cell_type": "markdown",
   "id": "b28d6a4d",
   "metadata": {
    "lines_to_next_cell": 2
   },
   "source": [
    "Function to get the best index based on performance"
   ]
  },
  {
   "cell_type": "code",
   "execution_count": 6,
   "id": "3356d7c3",
   "metadata": {
    "lines_to_next_cell": 2
   },
   "outputs": [],
   "source": [
    "def get_best_index(performance):\n",
    "    # Retorna os índices das melhores performances para cada split\n",
    "    # performance: DataFrame com as performances de cada combinação de parâmetros\n",
    "    # Agrupa por split_idx e pega o índice do valor máximo de cada grupo\n",
    "    return performance[performance.groupby(\"split_idx\").idxmax()].index"
   ]
  },
  {
   "cell_type": "markdown",
   "id": "8e2d951e",
   "metadata": {
    "lines_to_next_cell": 2
   },
   "source": [
    "Function to get the best parameters from the best index"
   ]
  },
  {
   "cell_type": "code",
   "execution_count": 7,
   "id": "cc06291e",
   "metadata": {
    "lines_to_next_cell": 2
   },
   "outputs": [],
   "source": [
    "def get_best_params(best_index, level_name):\n",
    "    # Retorna os valores do nível especificado do índice em formato numpy array\n",
    "    # best_index: índice MultiIndex com os melhores parâmetros\n",
    "    # level_name: nome do nível do índice que queremos extrair\n",
    "    return best_index.get_level_values(level_name).to_numpy()"
   ]
  },
  {
   "cell_type": "markdown",
   "id": "18a6b7ce",
   "metadata": {
    "lines_to_next_cell": 2
   },
   "source": [
    "Function to simulate the best parameters and calculate Sharpe ratios"
   ]
  },
  {
   "cell_type": "code",
   "execution_count": 8,
   "id": "89a92a16",
   "metadata": {},
   "outputs": [],
   "source": [
    "def simulate_best_params(price, best_fast_windows, best_slow_windows, **kwargs):\n",
    "    fast_ma = vbt.MA.run(price, window=best_fast_windows, per_column=True)\n",
    "    slow_ma = vbt.MA.run(price, window=best_slow_windows, per_column=True)\n",
    "\n",
    "    entries = fast_ma.ma_crossed_above(slow_ma)\n",
    "    exits = fast_ma.ma_crossed_below(slow_ma)\n",
    "\n",
    "    pf = vbt.Portfolio.from_signals(price, entries, exits, **kwargs)\n",
    "    return pf.sharpe_ratio()"
   ]
  },
  {
   "cell_type": "markdown",
   "id": "d0aba57f",
   "metadata": {},
   "source": [
    "Define the range of windows for moving averages"
   ]
  },
  {
   "cell_type": "code",
   "execution_count": 9,
   "id": "32523527",
   "metadata": {},
   "outputs": [],
   "source": [
    "windows = np.arange(10, 40)"
   ]
  },
  {
   "cell_type": "markdown",
   "id": "219410d4",
   "metadata": {},
   "source": [
    "Simulate all parameter combinations for in-sample data and calculate Sharpe ratios"
   ]
  },
  {
   "cell_type": "code",
   "execution_count": 10,
   "id": "51fac2e1",
   "metadata": {},
   "outputs": [
    {
     "data": {
      "text/plain": [
       "fast_window  slow_window  split_idx\n",
       "10           11           0            1.482997\n",
       "                          1            1.315676\n",
       "                          2            1.382605\n",
       "                          3            1.266839\n",
       "                          4            0.830667\n",
       "                                         ...   \n",
       "38           39           25          -1.096163\n",
       "                          26          -1.041609\n",
       "                          27          -0.875327\n",
       "                          28          -0.800649\n",
       "                          29          -0.695308\n",
       "Name: sharpe_ratio, Length: 13050, dtype: float64"
      ]
     },
     "execution_count": 10,
     "metadata": {},
     "output_type": "execute_result"
    }
   ],
   "source": [
    "in_sharpe = simulate_all_params(in_price, windows, direction=\"both\", freq=\"d\")\n",
    "in_sharpe"
   ]
  },
  {
   "cell_type": "markdown",
   "id": "65fde50e",
   "metadata": {},
   "source": [
    "Get the best index and parameters from the in-sample Sharpe ratios"
   ]
  },
  {
   "cell_type": "code",
   "execution_count": 11,
   "id": "389d0677",
   "metadata": {},
   "outputs": [
    {
     "data": {
      "text/plain": [
       "MultiIndex([(10, 11,  0),\n",
       "            (12, 13,  1),\n",
       "            (12, 13,  2),\n",
       "            (10, 11,  3),\n",
       "            (12, 13,  4),\n",
       "            (10, 11,  5),\n",
       "            (10, 11,  6),\n",
       "            (18, 23,  7),\n",
       "            (18, 23,  8),\n",
       "            (18, 23,  9),\n",
       "            (18, 23, 10),\n",
       "            (18, 23, 11),\n",
       "            (18, 23, 12),\n",
       "            (18, 23, 13),\n",
       "            (18, 23, 14),\n",
       "            (18, 23, 15),\n",
       "            (23, 26, 16),\n",
       "            (23, 26, 17),\n",
       "            (23, 26, 18),\n",
       "            (24, 25, 19),\n",
       "            (24, 25, 20),\n",
       "            (24, 25, 21),\n",
       "            (24, 25, 22),\n",
       "            (24, 25, 23),\n",
       "            (24, 25, 24),\n",
       "            (24, 25, 25),\n",
       "            (24, 25, 26),\n",
       "            (24, 25, 27),\n",
       "            (24, 25, 28),\n",
       "            (24, 25, 29)],\n",
       "           names=['fast_window', 'slow_window', 'split_idx'])"
      ]
     },
     "execution_count": 11,
     "metadata": {},
     "output_type": "execute_result"
    }
   ],
   "source": [
    "in_best_index = get_best_index(in_sharpe)\n",
    "in_best_index"
   ]
  },
  {
   "cell_type": "code",
   "execution_count": 12,
   "id": "56153ada",
   "metadata": {},
   "outputs": [
    {
     "data": {
      "text/plain": [
       "array([10, 12, 12, 10, 12, 10, 10, 18, 18, 18, 18, 18, 18, 18, 18, 18, 23,\n",
       "       23, 23, 24, 24, 24, 24, 24, 24, 24, 24, 24, 24, 24])"
      ]
     },
     "execution_count": 12,
     "metadata": {},
     "output_type": "execute_result"
    }
   ],
   "source": [
    "in_best_fast_windows = get_best_params(in_best_index, \"fast_window\")\n",
    "in_best_fast_windows"
   ]
  },
  {
   "cell_type": "code",
   "execution_count": 13,
   "id": "4def22b0",
   "metadata": {},
   "outputs": [
    {
     "data": {
      "text/plain": [
       "array([11, 13, 13, 11, 13, 11, 11, 23, 23, 23, 23, 23, 23, 23, 23, 23, 26,\n",
       "       26, 26, 25, 25, 25, 25, 25, 25, 25, 25, 25, 25, 25])"
      ]
     },
     "execution_count": 13,
     "metadata": {},
     "output_type": "execute_result"
    }
   ],
   "source": [
    "in_best_slow_windows = get_best_params(in_best_index, \"slow_window\")\n",
    "in_best_slow_windows"
   ]
  },
  {
   "cell_type": "code",
   "execution_count": 14,
   "id": "e3896614",
   "metadata": {},
   "outputs": [
    {
     "data": {
      "text/plain": [
       "array([[10, 11],\n",
       "       [12, 13],\n",
       "       [12, 13],\n",
       "       [10, 11],\n",
       "       [12, 13],\n",
       "       [10, 11],\n",
       "       [10, 11],\n",
       "       [18, 23],\n",
       "       [18, 23],\n",
       "       [18, 23],\n",
       "       [18, 23],\n",
       "       [18, 23],\n",
       "       [18, 23],\n",
       "       [18, 23],\n",
       "       [18, 23],\n",
       "       [18, 23],\n",
       "       [23, 26],\n",
       "       [23, 26],\n",
       "       [23, 26],\n",
       "       [24, 25],\n",
       "       [24, 25],\n",
       "       [24, 25],\n",
       "       [24, 25],\n",
       "       [24, 25],\n",
       "       [24, 25],\n",
       "       [24, 25],\n",
       "       [24, 25],\n",
       "       [24, 25],\n",
       "       [24, 25],\n",
       "       [24, 25]])"
      ]
     },
     "execution_count": 14,
     "metadata": {},
     "output_type": "execute_result"
    }
   ],
   "source": [
    "# Combina as janelas rápidas e lentas ótimas em pares usando zip()\n",
    "# e converte para um array numpy para uso posterior\n",
    "in_best_window_pairs = np.array(list(zip(in_best_fast_windows,in_best_slow_windows)))\n",
    "in_best_window_pairs"
   ]
  },
  {
   "cell_type": "markdown",
   "id": "68372e8d",
   "metadata": {},
   "source": [
    "Simulate the best parameters for out-of-sample data and calculate Sharpe ratios"
   ]
  },
  {
   "cell_type": "code",
   "execution_count": 15,
   "id": "b303fbe2",
   "metadata": {},
   "outputs": [],
   "source": [
    "out_test_sharpe = simulate_best_params(\n",
    "    out_price, in_best_fast_windows, in_best_slow_windows, direction=\"both\", freq=\"d\"\n",
    ")\n"
   ]
  },
  {
   "cell_type": "code",
   "execution_count": 16,
   "id": "d7a41e3e",
   "metadata": {},
   "outputs": [
    {
     "data": {
      "text/plain": [
       "ma_window  ma_window  split_idx\n",
       "10         11         0            0.104944\n",
       "12         13         1            0.318315\n",
       "                      2            0.971220\n",
       "10         11         3            1.386776\n",
       "12         13         4            1.303271\n",
       "10         11         5            2.133295\n",
       "                      6            2.043524\n",
       "18         23         7            1.756910\n",
       "                      8            2.219371\n",
       "                      9            2.283883\n",
       "                      10           2.543995\n",
       "                      11           2.724648\n",
       "                      12           2.389899\n",
       "                      13           2.838682\n",
       "                      14           2.393307\n",
       "                      15           1.116318\n",
       "23         26         16           0.670553\n",
       "                      17           0.594142\n",
       "                      18           0.816458\n",
       "24         25         19           0.276339\n",
       "                      20          -0.052507\n",
       "                      21          -0.363486\n",
       "                      22          -0.895635\n",
       "                      23          -0.665969\n",
       "                      24          -0.147556\n",
       "                      25           0.369177\n",
       "                      26           0.710687\n",
       "                      27           0.463622\n",
       "                      28           1.064845\n",
       "                      29           1.437162\n",
       "Name: sharpe_ratio, dtype: float64"
      ]
     },
     "metadata": {},
     "output_type": "display_data"
    }
   ],
   "source": [
    "display(out_test_sharpe)"
   ]
  },
  {
   "cell_type": "markdown",
   "id": "64d9dd78",
   "metadata": {},
   "source": [
    "It’s common to overfit backtesting models to market noise. This is especially acute when brute force optimizing technical analysis strategies. To collect evidence to this effect, we can use a one-sided independent t-test to assess the statistical significance between the means of Sharpe ratios for in-sample and out-of-sample datasets:"
   ]
  },
  {
   "cell_type": "markdown",
   "id": "67d30b8e",
   "metadata": {},
   "source": [
    "Perform a t-test to compare the in-sample and out-of-sample Sharpe ratios"
   ]
  },
  {
   "cell_type": "code",
   "execution_count": 17,
   "id": "51b385d8",
   "metadata": {},
   "outputs": [
    {
     "data": {
      "text/plain": [
       "array([1.48299719, 1.6582792 , 1.65772091, 1.2668385 , 0.84853396,\n",
       "       0.74690573, 0.76385134, 0.7590957 , 0.65572241, 0.72938928,\n",
       "       0.80372209, 1.09831879, 0.99308813, 1.14479216, 1.01930212,\n",
       "       1.0449866 , 1.31312069, 1.37597608, 1.43878032, 1.81287614,\n",
       "       1.83892253, 2.14768268, 2.06634163, 1.401204  , 1.42425804,\n",
       "       1.49925313, 1.54774418, 1.61024994, 1.6581574 , 1.75580951])"
      ]
     },
     "execution_count": 17,
     "metadata": {},
     "output_type": "execute_result"
    }
   ],
   "source": [
    "in_sample_best = in_sharpe[in_best_index].values\n",
    "in_sample_best\n"
   ]
  },
  {
   "cell_type": "code",
   "execution_count": 18,
   "id": "0e72b755",
   "metadata": {},
   "outputs": [
    {
     "data": {
      "text/plain": [
       "array([ 0.10494383,  0.31831456,  0.97122039,  1.38677649,  1.30327091,\n",
       "        2.13329489,  2.04352394,  1.75690973,  2.21937089,  2.28388334,\n",
       "        2.54399532,  2.72464798,  2.38989915,  2.8386821 ,  2.39330699,\n",
       "        1.11631758,  0.67055253,  0.59414186,  0.81645839,  0.27633857,\n",
       "       -0.05250692, -0.36348638, -0.89563507, -0.6659686 , -0.14755552,\n",
       "        0.36917689,  0.71068709,  0.46362204,  1.06484465,  1.4371619 ])"
      ]
     },
     "execution_count": 18,
     "metadata": {},
     "output_type": "execute_result"
    }
   ],
   "source": [
    "out_sample_test = out_test_sharpe.values\n",
    "out_sample_test"
   ]
  },
  {
   "cell_type": "markdown",
   "id": "bd3c0921",
   "metadata": {},
   "source": [
    "The ttest_ind function from the SciPy stats module takes the two independent out_sample_test and in_sample_best samples as its arguments. **The alternative=\"greater\" parameter specifies that the test is one-sided**, which we use to evaluate whether the mean Sharpe ratio of the out-of-sample set is statistically greater than that of the in-sample set. The function returns the calculated t-statistic and the p-value."
   ]
  },
  {
   "cell_type": "code",
   "execution_count": 19,
   "id": "3e989b76",
   "metadata": {},
   "outputs": [],
   "source": [
    "# Realiza um teste t independente para comparar as médias dos Sharpe ratios\n",
    "# a=out_sample_test: dados fora da amostra (out-of-sample)\n",
    "# b=in_sample_best: dados dentro da amostra (in-sample) \n",
    "# alternative=\"greater\": testa se a média de out_sample_test é maior que in_sample_best\n",
    "t, p = stats.ttest_ind(a=out_sample_test, b=in_sample_best, alternative=\"greater\")"
   ]
  },
  {
   "cell_type": "code",
   "execution_count": 20,
   "id": "616c9a88",
   "metadata": {},
   "outputs": [
    {
     "data": {
      "text/plain": [
       "-1.0849232316848565"
      ]
     },
     "metadata": {},
     "output_type": "display_data"
    },
    {
     "data": {
      "text/plain": [
       "0.8587776392244969"
      ]
     },
     "metadata": {},
     "output_type": "display_data"
    }
   ],
   "source": [
    "display(t, p)"
   ]
  },
  {
   "cell_type": "markdown",
   "id": "36400b68",
   "metadata": {},
   "source": [
    "The results give us a t-statistic of approximately -1.085 and a p-value of approximately 0.859. The negative value of the t-statistic suggests that the mean of the out-of-sample Sharpe ratios is negative. Further, the high p-value tells us there is not enough statistical evidence to conclude that the out-of-sample Sharpe ratios are greater than the in-sample Sharpe ratios. The negative t-statistic and the high p-value together suggest that the strategy may not perform as well on new, unseen data as it does on the data on which it was optimized. This could be a warning sign regarding the strategy’s robustness and its ability to generalize to new data. Ideally, you’d hope to see a t-statistic over 1.0 and a p-value under 0.05."
   ]
  },
  {
   "cell_type": "code",
   "execution_count": 21,
   "id": "6dfd8345",
   "metadata": {},
   "outputs": [
    {
     "data": {
      "text/plain": [
       "ma_window  ma_window  split_idx\n",
       "10         11         0            0.104944\n",
       "12         13         1            0.318315\n",
       "                      2            0.971220\n",
       "10         11         3            1.386776\n",
       "12         13         4            1.303271\n",
       "10         11         5            2.133295\n",
       "                      6            2.043524\n",
       "18         23         7            1.756910\n",
       "                      8            2.219371\n",
       "                      9            2.283883\n",
       "                      10           2.543995\n",
       "                      11           2.724648\n",
       "                      12           2.389899\n",
       "                      13           2.838682\n",
       "                      14           2.393307\n",
       "                      15           1.116318\n",
       "23         26         16           0.670553\n",
       "                      17           0.594142\n",
       "                      18           0.816458\n",
       "24         25         19           0.276339\n",
       "                      20          -0.052507\n",
       "                      21          -0.363486\n",
       "                      22          -0.895635\n",
       "                      23          -0.665969\n",
       "                      24          -0.147556\n",
       "                      25           0.369177\n",
       "                      26           0.710687\n",
       "                      27           0.463622\n",
       "                      28           1.064845\n",
       "                      29           1.437162\n",
       "Name: sharpe_ratio, dtype: float64"
      ]
     },
     "metadata": {},
     "output_type": "display_data"
    }
   ],
   "source": [
    "display(out_test_sharpe)"
   ]
  },
  {
   "cell_type": "markdown",
   "id": "c069fd5e",
   "metadata": {},
   "source": [
    "Defines the alternative hypothesis. The following options are available (default is ‘two-sided’):\n",
    "*  ‘two-sided’: the means of the distributions underlying the samples are unequal.\n",
    "*  ‘less’: the mean of the distribution underlying the first sample is less than the mean of the distribution underlying the second sample.\n",
    "*  ‘greater’: the mean of the distribution underlying the first sample is greater than the mean of the distribution underlying the second sample."
   ]
  },
  {
   "cell_type": "markdown",
   "id": "efa0ecac",
   "metadata": {},
   "source": [
    "**Jason Strimpel** is the founder of <a href='https://pyquantnews.com/'>PyQuant News</a> and co-founder of <a href='https://www.tradeblotter.io/'>Trade Blotter</a>. His career in algorithmic trading spans 20+ years. He previously traded for a Chicago-based hedge fund, was a risk manager at JPMorgan, and managed production risk technology for an energy derivatives trading firm in London. In Singapore, he served as APAC CIO for an agricultural trading firm and built the data science team for a global metals trading firm. Jason holds degrees in Finance and Economics and a Master's in Quantitative Finance from the Illinois Institute of Technology. His career spans America, Europe, and Asia. He shares his expertise through the <a href='https://pyquantnews.com/subscribe-to-the-pyquant-newsletter/'>PyQuant Newsletter</a>, social media, and has taught over 1,000+ algorithmic trading with Python in his popular course **<a href='https://gettingstartedwithpythonforquantfinance.com/'>Getting Started With Python for Quant Finance</a>**. All code is for educational purposes only. Nothing provided here is financial advise. Use at your own risk."
   ]
  },
  {
   "cell_type": "code",
   "execution_count": null,
   "id": "24ac93d2-a004-40e5-8937-bef8fd25c6f1",
   "metadata": {},
   "outputs": [],
   "source": []
  }
 ],
 "metadata": {
  "jupytext": {
   "cell_metadata_filter": "-all",
   "main_language": "python",
   "notebook_metadata_filter": "-all"
  },
  "kernelspec": {
   "display_name": "algo-trading",
   "language": "python",
   "name": "python3"
  },
  "language_info": {
   "codemirror_mode": {
    "name": "ipython",
    "version": 3
   },
   "file_extension": ".py",
   "mimetype": "text/x-python",
   "name": "python",
   "nbconvert_exporter": "python",
   "pygments_lexer": "ipython3",
   "version": "3.10.16"
  }
 },
 "nbformat": 4,
 "nbformat_minor": 5
}
