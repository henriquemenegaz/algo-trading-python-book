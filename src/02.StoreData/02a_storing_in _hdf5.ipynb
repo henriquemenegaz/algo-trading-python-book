{
 "cells": [
  {
   "cell_type": "markdown",
   "id": "6bc7b9d8",
   "metadata": {},
   "source": [
    "## Navigating options market data with the OpenBB Platform"
   ]
  },
  {
   "cell_type": "code",
   "execution_count": 1,
   "id": "097d7d8f",
   "metadata": {},
   "outputs": [],
   "source": [
    "from IPython.display import display\n",
    "from openbb import obb"
   ]
  },
  {
   "cell_type": "code",
   "execution_count": 2,
   "id": "154f9ac6",
   "metadata": {},
   "outputs": [],
   "source": [
    "obb.user.preferences.output_type = \"dataframe\""
   ]
  },
  {
   "cell_type": "markdown",
   "id": "2d78fbd3",
   "metadata": {},
   "source": [
    "Fetches options chains for the symbol \"SPY\" and stores it in 'chains'"
   ]
  },
  {
   "cell_type": "code",
   "execution_count": 3,
   "id": "a99c279c",
   "metadata": {},
   "outputs": [],
   "source": [
    "chains = obb.derivatives.options.chains(symbol=\"SPY\")"
   ]
  },
  {
   "cell_type": "code",
   "execution_count": 4,
   "id": "4e5a2f88",
   "metadata": {},
   "outputs": [
    {
     "name": "stdout",
     "output_type": "stream",
     "text": [
      "<class 'pandas.core.frame.DataFrame'>\n",
      "RangeIndex: 9910 entries, 0 to 9909\n",
      "Data columns (total 29 columns):\n",
      " #   Column              Non-Null Count  Dtype         \n",
      "---  ------              --------------  -----         \n",
      " 0   underlying_symbol   9910 non-null   object        \n",
      " 1   underlying_price    9910 non-null   float64       \n",
      " 2   contract_symbol     9910 non-null   object        \n",
      " 3   expiration          9910 non-null   object        \n",
      " 4   dte                 9910 non-null   int64         \n",
      " 5   strike              9910 non-null   float64       \n",
      " 6   option_type         9910 non-null   object        \n",
      " 7   open_interest       9910 non-null   int64         \n",
      " 8   volume              9910 non-null   int64         \n",
      " 9   theoretical_price   9910 non-null   float64       \n",
      " 10  last_trade_price    9910 non-null   float64       \n",
      " 11  last_trade_time     8197 non-null   datetime64[ns]\n",
      " 12  tick                9910 non-null   object        \n",
      " 13  bid                 9910 non-null   float64       \n",
      " 14  bid_size            9910 non-null   int64         \n",
      " 15  ask                 9910 non-null   float64       \n",
      " 16  ask_size            9910 non-null   int64         \n",
      " 17  open                9910 non-null   float64       \n",
      " 18  high                9910 non-null   float64       \n",
      " 19  low                 9910 non-null   float64       \n",
      " 20  prev_close          9910 non-null   float64       \n",
      " 21  change              9910 non-null   float64       \n",
      " 22  change_percent      9910 non-null   float64       \n",
      " 23  implied_volatility  9910 non-null   float64       \n",
      " 24  delta               9910 non-null   float64       \n",
      " 25  gamma               9910 non-null   float64       \n",
      " 26  theta               9910 non-null   float64       \n",
      " 27  vega                9910 non-null   float64       \n",
      " 28  rho                 9910 non-null   float64       \n",
      "dtypes: datetime64[ns](1), float64(18), int64(5), object(5)\n",
      "memory usage: 2.2+ MB\n"
     ]
    },
    {
     "data": {
      "text/plain": [
       "None"
      ]
     },
     "metadata": {},
     "output_type": "display_data"
    }
   ],
   "source": [
    "display(chains.info())"
   ]
  },
  {
   "cell_type": "markdown",
   "id": "90c6a378",
   "metadata": {},
   "source": [
    "Fetches historical price data for the specified option symbol using the \"yfinance\" provider and selects the \"close\" and \"volume\" columns"
   ]
  },
  {
   "cell_type": "code",
   "execution_count": 5,
   "id": "b185aa90",
   "metadata": {},
   "outputs": [],
   "source": [
    "historic = obb.equity.price.historical(\n",
    "    symbol=\"SPY251219C00650000\", provider=\"yfinance\"\n",
    ")[[\"close\", \"volume\"]].head(10)"
   ]
  },
  {
   "cell_type": "code",
   "execution_count": 6,
   "id": "ab4c65de",
   "metadata": {},
   "outputs": [
    {
     "data": {
      "text/html": [
       "<div>\n",
       "<style scoped>\n",
       "    .dataframe tbody tr th:only-of-type {\n",
       "        vertical-align: middle;\n",
       "    }\n",
       "\n",
       "    .dataframe tbody tr th {\n",
       "        vertical-align: top;\n",
       "    }\n",
       "\n",
       "    .dataframe thead th {\n",
       "        text-align: right;\n",
       "    }\n",
       "</style>\n",
       "<table border=\"1\" class=\"dataframe\">\n",
       "  <thead>\n",
       "    <tr style=\"text-align: right;\">\n",
       "      <th></th>\n",
       "      <th>close</th>\n",
       "      <th>volume</th>\n",
       "    </tr>\n",
       "    <tr>\n",
       "      <th>date</th>\n",
       "      <th></th>\n",
       "      <th></th>\n",
       "    </tr>\n",
       "  </thead>\n",
       "  <tbody>\n",
       "    <tr>\n",
       "      <th>2024-02-22</th>\n",
       "      <td>6.30</td>\n",
       "      <td>29</td>\n",
       "    </tr>\n",
       "    <tr>\n",
       "      <th>2024-02-23</th>\n",
       "      <td>6.50</td>\n",
       "      <td>17</td>\n",
       "    </tr>\n",
       "    <tr>\n",
       "      <th>2024-02-26</th>\n",
       "      <td>6.39</td>\n",
       "      <td>12</td>\n",
       "    </tr>\n",
       "    <tr>\n",
       "      <th>2024-02-28</th>\n",
       "      <td>5.84</td>\n",
       "      <td>12</td>\n",
       "    </tr>\n",
       "    <tr>\n",
       "      <th>2024-02-29</th>\n",
       "      <td>6.05</td>\n",
       "      <td>0</td>\n",
       "    </tr>\n",
       "    <tr>\n",
       "      <th>2024-03-01</th>\n",
       "      <td>7.00</td>\n",
       "      <td>16</td>\n",
       "    </tr>\n",
       "    <tr>\n",
       "      <th>2024-03-04</th>\n",
       "      <td>7.33</td>\n",
       "      <td>479</td>\n",
       "    </tr>\n",
       "    <tr>\n",
       "      <th>2024-03-05</th>\n",
       "      <td>6.25</td>\n",
       "      <td>0</td>\n",
       "    </tr>\n",
       "    <tr>\n",
       "      <th>2024-03-07</th>\n",
       "      <td>7.80</td>\n",
       "      <td>3</td>\n",
       "    </tr>\n",
       "    <tr>\n",
       "      <th>2024-03-08</th>\n",
       "      <td>8.19</td>\n",
       "      <td>1</td>\n",
       "    </tr>\n",
       "  </tbody>\n",
       "</table>\n",
       "</div>"
      ],
      "text/plain": [
       "            close  volume\n",
       "date                     \n",
       "2024-02-22   6.30      29\n",
       "2024-02-23   6.50      17\n",
       "2024-02-26   6.39      12\n",
       "2024-02-28   5.84      12\n",
       "2024-02-29   6.05       0\n",
       "2024-03-01   7.00      16\n",
       "2024-03-04   7.33     479\n",
       "2024-03-05   6.25       0\n",
       "2024-03-07   7.80       3\n",
       "2024-03-08   8.19       1"
      ]
     },
     "metadata": {},
     "output_type": "display_data"
    }
   ],
   "source": [
    "display(historic)"
   ]
  },
  {
   "cell_type": "markdown",
   "id": "5f5944ac",
   "metadata": {},
   "source": [
    "## HDF5. Save and load data. Vanilla"
   ]
  },
  {
   "cell_type": "code",
   "execution_count": 7,
   "id": "1eaf16b9",
   "metadata": {},
   "outputs": [],
   "source": [
    "import pandas as pd"
   ]
  },
  {
   "cell_type": "code",
   "execution_count": 8,
   "id": "bbcbfc03",
   "metadata": {},
   "outputs": [
    {
     "name": "stdout",
     "output_type": "stream",
     "text": [
      "-rw-r--r-- 1 0 0 8000 Feb 21 14:30 data.h5\n"
     ]
    }
   ],
   "source": [
    "# Save data\n",
    "h5 = pd.HDFStore(\"data.h5\", \"w\")\n",
    "h5[\"data\"] = historic\n",
    "h5.close()\n",
    "!ls -n data.*"
   ]
  },
  {
   "cell_type": "code",
   "execution_count": 9,
   "id": "ab1fc0eb",
   "metadata": {},
   "outputs": [],
   "source": [
    "# Load data\n",
    "h5 = pd.HDFStore(\"data.h5\", \"r\")\n",
    "data_copy = h5[\"data\"]\n",
    "h5.close()\n",
    "data_copy.head()\n",
    "!rm data.h5 # Remove the file"
   ]
  },
  {
   "cell_type": "markdown",
   "id": "cad2f762",
   "metadata": {},
   "source": [
    "## HDF5. Save and load data. Compression"
   ]
  },
  {
   "cell_type": "code",
   "execution_count": 10,
   "id": "3c9b8ba3",
   "metadata": {},
   "outputs": [
    {
     "name": "stdout",
     "output_type": "stream",
     "text": [
      "-rw-r--r-- 1 0 0 22115 Feb 21 14:30 data.h5\n"
     ]
    }
   ],
   "source": [
    "## Storing in HDF5 with compression\n",
    "h5 = pd.HDFStore(\"data.h5\", \"w\", complevel=9, complib=\"blosc\")\n",
    "h5[\"data\"] = historic\n",
    "h5.close()\n",
    "!ls -n data.*"
   ]
  },
  {
   "cell_type": "code",
   "execution_count": 11,
   "id": "577d2658",
   "metadata": {},
   "outputs": [
    {
     "data": {
      "text/html": [
       "<div>\n",
       "<style scoped>\n",
       "    .dataframe tbody tr th:only-of-type {\n",
       "        vertical-align: middle;\n",
       "    }\n",
       "\n",
       "    .dataframe tbody tr th {\n",
       "        vertical-align: top;\n",
       "    }\n",
       "\n",
       "    .dataframe thead th {\n",
       "        text-align: right;\n",
       "    }\n",
       "</style>\n",
       "<table border=\"1\" class=\"dataframe\">\n",
       "  <thead>\n",
       "    <tr style=\"text-align: right;\">\n",
       "      <th></th>\n",
       "      <th>close</th>\n",
       "      <th>volume</th>\n",
       "    </tr>\n",
       "    <tr>\n",
       "      <th>date</th>\n",
       "      <th></th>\n",
       "      <th></th>\n",
       "    </tr>\n",
       "  </thead>\n",
       "  <tbody>\n",
       "    <tr>\n",
       "      <th>2024-02-22</th>\n",
       "      <td>6.30</td>\n",
       "      <td>29</td>\n",
       "    </tr>\n",
       "    <tr>\n",
       "      <th>2024-02-23</th>\n",
       "      <td>6.50</td>\n",
       "      <td>17</td>\n",
       "    </tr>\n",
       "    <tr>\n",
       "      <th>2024-02-26</th>\n",
       "      <td>6.39</td>\n",
       "      <td>12</td>\n",
       "    </tr>\n",
       "    <tr>\n",
       "      <th>2024-02-28</th>\n",
       "      <td>5.84</td>\n",
       "      <td>12</td>\n",
       "    </tr>\n",
       "    <tr>\n",
       "      <th>2024-02-29</th>\n",
       "      <td>6.05</td>\n",
       "      <td>0</td>\n",
       "    </tr>\n",
       "  </tbody>\n",
       "</table>\n",
       "</div>"
      ],
      "text/plain": [
       "            close  volume\n",
       "date                     \n",
       "2024-02-22   6.30      29\n",
       "2024-02-23   6.50      17\n",
       "2024-02-26   6.39      12\n",
       "2024-02-28   5.84      12\n",
       "2024-02-29   6.05       0"
      ]
     },
     "execution_count": 11,
     "metadata": {},
     "output_type": "execute_result"
    }
   ],
   "source": [
    "## Reading from HDF5 with compression\n",
    "h5 = pd.HDFStore(\"data.h5\", \"r\", complevel=9, complib=\"blosc\")\n",
    "data_copy2 = h5[\"data\"]\n",
    "h5.close()\n",
    "!rm data.h5 # Remove the file\n",
    "data_copy2.head()"
   ]
  },
  {
   "cell_type": "markdown",
   "id": "30d062f3",
   "metadata": {},
   "source": [
    "## HDF5. Save and load data. Compression and chunking"
   ]
  },
  {
   "cell_type": "code",
   "execution_count": 12,
   "id": "3b97c51c",
   "metadata": {},
   "outputs": [
    {
     "name": "stdout",
     "output_type": "stream",
     "text": [
      "-rw-r--r-- 1 0 0 22115 Feb 21 14:31 data.h5\n"
     ]
    }
   ],
   "source": [
    "## Storing in HDF5 with compression\n",
    "h5 = pd.HDFStore(\"data.h5\", \"w\", complevel=9, complib=\"blosc\", chunksize=1000)\n",
    "h5[\"data\"] = historic\n",
    "h5.close()\n",
    "!ls -n data.*"
   ]
  },
  {
   "cell_type": "code",
   "execution_count": 13,
   "id": "be4fe83b",
   "metadata": {},
   "outputs": [
    {
     "data": {
      "text/html": [
       "<div>\n",
       "<style scoped>\n",
       "    .dataframe tbody tr th:only-of-type {\n",
       "        vertical-align: middle;\n",
       "    }\n",
       "\n",
       "    .dataframe tbody tr th {\n",
       "        vertical-align: top;\n",
       "    }\n",
       "\n",
       "    .dataframe thead th {\n",
       "        text-align: right;\n",
       "    }\n",
       "</style>\n",
       "<table border=\"1\" class=\"dataframe\">\n",
       "  <thead>\n",
       "    <tr style=\"text-align: right;\">\n",
       "      <th></th>\n",
       "      <th>close</th>\n",
       "      <th>volume</th>\n",
       "    </tr>\n",
       "    <tr>\n",
       "      <th>date</th>\n",
       "      <th></th>\n",
       "      <th></th>\n",
       "    </tr>\n",
       "  </thead>\n",
       "  <tbody>\n",
       "    <tr>\n",
       "      <th>2024-02-22</th>\n",
       "      <td>6.30</td>\n",
       "      <td>29</td>\n",
       "    </tr>\n",
       "    <tr>\n",
       "      <th>2024-02-23</th>\n",
       "      <td>6.50</td>\n",
       "      <td>17</td>\n",
       "    </tr>\n",
       "    <tr>\n",
       "      <th>2024-02-26</th>\n",
       "      <td>6.39</td>\n",
       "      <td>12</td>\n",
       "    </tr>\n",
       "    <tr>\n",
       "      <th>2024-02-28</th>\n",
       "      <td>5.84</td>\n",
       "      <td>12</td>\n",
       "    </tr>\n",
       "    <tr>\n",
       "      <th>2024-02-29</th>\n",
       "      <td>6.05</td>\n",
       "      <td>0</td>\n",
       "    </tr>\n",
       "  </tbody>\n",
       "</table>\n",
       "</div>"
      ],
      "text/plain": [
       "            close  volume\n",
       "date                     \n",
       "2024-02-22   6.30      29\n",
       "2024-02-23   6.50      17\n",
       "2024-02-26   6.39      12\n",
       "2024-02-28   5.84      12\n",
       "2024-02-29   6.05       0"
      ]
     },
     "execution_count": 13,
     "metadata": {},
     "output_type": "execute_result"
    }
   ],
   "source": [
    "## Reading from HDF5 with compression\n",
    "h5 = pd.HDFStore(\"data.h5\", \"r\", complevel=9, complib=\"blosc\", chunksize=1000)\n",
    "data_copy3 = h5[\"data\"]\n",
    "h5.close()\n",
    "!rm data.h5 # Remove the file\n",
    "data_copy3.head()"
   ]
  },
  {
   "cell_type": "markdown",
   "id": "0382f473",
   "metadata": {},
   "source": [
    "## SQLite3. Save and load data"
   ]
  },
  {
   "cell_type": "code",
   "execution_count": 14,
   "id": "3186a38e",
   "metadata": {},
   "outputs": [],
   "source": [
    "import sqlite3 as sq3"
   ]
  },
  {
   "cell_type": "code",
   "execution_count": 15,
   "id": "ab198291",
   "metadata": {},
   "outputs": [
    {
     "name": "stdout",
     "output_type": "stream",
     "text": [
      "-rw-r--r-- 1 0 0 8192 Feb 21 14:31 data.db\n"
     ]
    }
   ],
   "source": [
    "## Storing in SQLite3\n",
    "conn = sq3.connect(\"data.db\")  # Create a connection to the database\n",
    "historic.to_sql(\n",
    "    \"data\", conn, if_exists=\"replace\", index=False\n",
    ")  # Store the data in the database\n",
    "conn.close()  # Close the connection\n",
    "!ls -n data.*"
   ]
  },
  {
   "cell_type": "code",
   "execution_count": 16,
   "id": "78860dd6",
   "metadata": {},
   "outputs": [
    {
     "data": {
      "text/html": [
       "<div>\n",
       "<style scoped>\n",
       "    .dataframe tbody tr th:only-of-type {\n",
       "        vertical-align: middle;\n",
       "    }\n",
       "\n",
       "    .dataframe tbody tr th {\n",
       "        vertical-align: top;\n",
       "    }\n",
       "\n",
       "    .dataframe thead th {\n",
       "        text-align: right;\n",
       "    }\n",
       "</style>\n",
       "<table border=\"1\" class=\"dataframe\">\n",
       "  <thead>\n",
       "    <tr style=\"text-align: right;\">\n",
       "      <th></th>\n",
       "      <th>close</th>\n",
       "      <th>volume</th>\n",
       "    </tr>\n",
       "  </thead>\n",
       "  <tbody>\n",
       "    <tr>\n",
       "      <th>0</th>\n",
       "      <td>6.30</td>\n",
       "      <td>29</td>\n",
       "    </tr>\n",
       "    <tr>\n",
       "      <th>1</th>\n",
       "      <td>6.50</td>\n",
       "      <td>17</td>\n",
       "    </tr>\n",
       "    <tr>\n",
       "      <th>2</th>\n",
       "      <td>6.39</td>\n",
       "      <td>12</td>\n",
       "    </tr>\n",
       "    <tr>\n",
       "      <th>3</th>\n",
       "      <td>5.84</td>\n",
       "      <td>12</td>\n",
       "    </tr>\n",
       "    <tr>\n",
       "      <th>4</th>\n",
       "      <td>6.05</td>\n",
       "      <td>0</td>\n",
       "    </tr>\n",
       "  </tbody>\n",
       "</table>\n",
       "</div>"
      ],
      "text/plain": [
       "   close  volume\n",
       "0   6.30      29\n",
       "1   6.50      17\n",
       "2   6.39      12\n",
       "3   5.84      12\n",
       "4   6.05       0"
      ]
     },
     "execution_count": 16,
     "metadata": {},
     "output_type": "execute_result"
    }
   ],
   "source": [
    "## Reading from SQLite3\n",
    "conn = sq3.connect(\"data.db\")  # Create a connection to the database\n",
    "data_copy4 = pd.read_sql_query(\n",
    "    \"SELECT * FROM data\", conn\n",
    ")  # Read the data from the database\n",
    "conn.close()  # Close the connection\n",
    "!rm data.db # Remove the file\n",
    "data_copy4.head()"
   ]
  }
 ],
 "metadata": {
  "jupytext": {
   "cell_metadata_filter": "-all",
   "main_language": "python",
   "notebook_metadata_filter": "-all"
  },
  "kernelspec": {
   "display_name": "Python 3",
   "language": "python",
   "name": "python3"
  },
  "language_info": {
   "codemirror_mode": {
    "name": "ipython",
    "version": 3
   },
   "file_extension": ".py",
   "mimetype": "text/x-python",
   "name": "python",
   "nbconvert_exporter": "python",
   "pygments_lexer": "ipython3",
   "version": "2.7.undefined"
  }
 },
 "nbformat": 4,
 "nbformat_minor": 5
}
