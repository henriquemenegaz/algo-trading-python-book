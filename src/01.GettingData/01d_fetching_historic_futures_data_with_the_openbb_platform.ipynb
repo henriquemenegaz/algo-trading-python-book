{
 "cells": [
  {
   "cell_type": "markdown",
   "id": "88073b76",
   "metadata": {},
   "source": [
    "## Fetching historic futures data with the OpenBB Platform"
   ]
  },
  {
   "cell_type": "code",
   "execution_count": 13,
   "id": "4f5b57eb",
   "metadata": {},
   "outputs": [],
   "source": [
    "import pandas as pd\n",
    "from IPython.display import display\n",
    "from openbb import obb"
   ]
  },
  {
   "cell_type": "code",
   "execution_count": 14,
   "id": "5dbd6c61-f48d-4a1c-bcce-9b0560a6622c",
   "metadata": {},
   "outputs": [
    {
     "name": "stdout",
     "output_type": "stream",
     "text": [
      "OpenBB Platform v4.4.0\n",
      "\n",
      "Utilities:\n",
      "    /account\n",
      "    /user\n",
      "    /system\n",
      "    /coverage\n",
      "\n",
      "Routers:\n",
      "    /commodity\n",
      "    /crypto\n",
      "    /currency\n",
      "    /derivatives\n",
      "    /econometrics\n",
      "    /economy\n",
      "    /equity\n",
      "    /etf\n",
      "    /fixedincome\n",
      "    /index\n",
      "    /news\n",
      "    /quantitative\n",
      "    /regulators\n",
      "    /technical\n",
      "\n",
      "Extensions:\n",
      "    - commodity@1.3.0\n",
      "    - crypto@1.4.0\n",
      "    - currency@1.4.0\n",
      "    - derivatives@1.4.0\n",
      "    - econometrics@1.5.1\n",
      "    - economy@1.4.0\n",
      "    - equity@1.4.0\n",
      "    - etf@1.4.0\n",
      "    - fixedincome@1.4.1\n",
      "    - index@1.4.0\n",
      "    - news@1.4.0\n",
      "    - quantitative@1.4.1\n",
      "    - regulators@1.4.0\n",
      "    - technical@1.4.1\n",
      "\n",
      "    - alpha_vantage@1.4.0\n",
      "    - benzinga@1.4.0\n",
      "    - biztoc@1.4.0\n",
      "    - bls@1.1.0\n",
      "    - cboe@1.4.0\n",
      "    - cftc@1.1.0\n",
      "    - deribit@1.0.0\n",
      "    - ecb@1.4.0\n",
      "    - econdb@1.3.0\n",
      "    - federal_reserve@1.4.0\n",
      "    - finra@1.4.0\n",
      "    - finviz@1.3.0\n",
      "    - fmp@1.4.0\n",
      "    - fred@1.4.0\n",
      "    - government_us@1.4.0\n",
      "    - imf@1.1.0\n",
      "    - intrinio@1.4.0\n",
      "    - multpl@1.1.0\n",
      "    - nasdaq@1.4.0\n",
      "    - oecd@1.4.0\n",
      "    - polygon@1.4.0\n",
      "    - sec@1.4.0\n",
      "    - seeking_alpha@1.4.0\n",
      "    - stockgrid@1.4.0\n",
      "    - tiingo@1.4.0\n",
      "    - tmx@1.3.0\n",
      "    - tradier@1.3.0\n",
      "    - tradingeconomics@1.4.0\n",
      "    - us_eia@1.1.0\n",
      "    - wsj@1.4.0\n",
      "    - yfinance@1.4.1    \n"
     ]
    }
   ],
   "source": [
    "print(obb)"
   ]
  },
  {
   "cell_type": "code",
   "execution_count": 15,
   "id": "4e0461e6",
   "metadata": {},
   "outputs": [],
   "source": [
    "obb.user.preferences.output_type = \"dataframe\""
   ]
  },
  {
   "cell_type": "markdown",
   "id": "18b5af17",
   "metadata": {},
   "source": [
    "Fetches the futures curve data for the symbol \"VX\" and stores it in 'data'"
   ]
  },
  {
   "cell_type": "code",
   "execution_count": 16,
   "id": "1e1fe30e",
   "metadata": {},
   "outputs": [],
   "source": [
    "data = obb.derivatives.futures.curve(symbol=\"VX\")"
   ]
  },
  {
   "cell_type": "code",
   "execution_count": 17,
   "id": "d4ad18d0",
   "metadata": {},
   "outputs": [
    {
     "data": {
      "text/html": [
       "<div>\n",
       "<style scoped>\n",
       "    .dataframe tbody tr th:only-of-type {\n",
       "        vertical-align: middle;\n",
       "    }\n",
       "\n",
       "    .dataframe tbody tr th {\n",
       "        vertical-align: top;\n",
       "    }\n",
       "\n",
       "    .dataframe thead th {\n",
       "        text-align: right;\n",
       "    }\n",
       "</style>\n",
       "<table border=\"1\" class=\"dataframe\">\n",
       "  <thead>\n",
       "    <tr style=\"text-align: right;\">\n",
       "      <th></th>\n",
       "      <th>expiration</th>\n",
       "      <th>price</th>\n",
       "    </tr>\n",
       "  </thead>\n",
       "  <tbody>\n",
       "    <tr>\n",
       "      <th>0</th>\n",
       "      <td>2025-03</td>\n",
       "      <td>16.95</td>\n",
       "    </tr>\n",
       "    <tr>\n",
       "      <th>1</th>\n",
       "      <td>2025-04</td>\n",
       "      <td>17.85</td>\n",
       "    </tr>\n",
       "    <tr>\n",
       "      <th>2</th>\n",
       "      <td>2025-05</td>\n",
       "      <td>18.35</td>\n",
       "    </tr>\n",
       "    <tr>\n",
       "      <th>3</th>\n",
       "      <td>2025-06</td>\n",
       "      <td>18.65</td>\n",
       "    </tr>\n",
       "    <tr>\n",
       "      <th>4</th>\n",
       "      <td>2025-07</td>\n",
       "      <td>19.05</td>\n",
       "    </tr>\n",
       "    <tr>\n",
       "      <th>5</th>\n",
       "      <td>2025-08</td>\n",
       "      <td>19.20</td>\n",
       "    </tr>\n",
       "    <tr>\n",
       "      <th>6</th>\n",
       "      <td>2025-09</td>\n",
       "      <td>19.45</td>\n",
       "    </tr>\n",
       "    <tr>\n",
       "      <th>7</th>\n",
       "      <td>2025-10</td>\n",
       "      <td>19.65</td>\n",
       "    </tr>\n",
       "    <tr>\n",
       "      <th>8</th>\n",
       "      <td>2025-11</td>\n",
       "      <td>16.45</td>\n",
       "    </tr>\n",
       "  </tbody>\n",
       "</table>\n",
       "</div>"
      ],
      "text/plain": [
       "  expiration  price\n",
       "0    2025-03  16.95\n",
       "1    2025-04  17.85\n",
       "2    2025-05  18.35\n",
       "3    2025-06  18.65\n",
       "4    2025-07  19.05\n",
       "5    2025-08  19.20\n",
       "6    2025-09  19.45\n",
       "7    2025-10  19.65\n",
       "8    2025-11  16.45"
      ]
     },
     "metadata": {},
     "output_type": "display_data"
    }
   ],
   "source": [
    "display(data)"
   ]
  },
  {
   "cell_type": "markdown",
   "id": "7fc20f7a",
   "metadata": {},
   "source": [
    "Converts the 'expiration' column to datetime format and sets it as the index of 'data'"
   ]
  },
  {
   "cell_type": "code",
   "execution_count": 18,
   "id": "9323a022",
   "metadata": {},
   "outputs": [],
   "source": [
    "data.index = pd.to_datetime(data.expiration)"
   ]
  },
  {
   "cell_type": "markdown",
   "id": "8bb849e2",
   "metadata": {},
   "source": [
    "Plots the data with the new datetime index"
   ]
  },
  {
   "cell_type": "code",
   "execution_count": 19,
   "id": "9c4ab255",
   "metadata": {},
   "outputs": [
    {
     "data": {
      "text/plain": [
       "<Axes: xlabel='expiration'>"
      ]
     },
     "execution_count": 19,
     "metadata": {},
     "output_type": "execute_result"
    },
    {
     "data": {
      "image/png": "[encoded data removed]",
      "text/plain": [
       "<Figure size 640x480 with 1 Axes>"
      ]
     },
     "metadata": {},
     "output_type": "display_data"
    }
   ],
   "source": [
    "data.plot()"
   ]
  },
  {
   "cell_type": "markdown",
   "id": "c78511c5",
   "metadata": {},
   "source": [
    "Fetches historical futures data for the symbol \"CL\" within the specified date range and stores it in 'data'"
   ]
  },
  {
   "cell_type": "code",
   "execution_count": 42,
   "id": "b6b1e46d",
   "metadata": {},
   "outputs": [],
   "source": [
    "data = obb.derivatives.futures.historical(\n",
    "    symbol=\"CL\", start_date=\"2020-01-01\", end_date=\"2022-12-31\", provider=\"yfinance\"\n",
    ")"
   ]
  },
  {
   "cell_type": "code",
   "execution_count": 43,
   "id": "b39a30ab",
   "metadata": {},
   "outputs": [
    {
     "data": {
      "text/html": [
       "<div>\n",
       "<style scoped>\n",
       "    .dataframe tbody tr th:only-of-type {\n",
       "        vertical-align: middle;\n",
       "    }\n",
       "\n",
       "    .dataframe tbody tr th {\n",
       "        vertical-align: top;\n",
       "    }\n",
       "\n",
       "    .dataframe thead th {\n",
       "        text-align: right;\n",
       "    }\n",
       "</style>\n",
       "<table border=\"1\" class=\"dataframe\">\n",
       "  <thead>\n",
       "    <tr style=\"text-align: right;\">\n",
       "      <th></th>\n",
       "      <th>open</th>\n",
       "      <th>high</th>\n",
       "      <th>low</th>\n",
       "      <th>close</th>\n",
       "      <th>volume</th>\n",
       "    </tr>\n",
       "    <tr>\n",
       "      <th>date</th>\n",
       "      <th></th>\n",
       "      <th></th>\n",
       "      <th></th>\n",
       "      <th></th>\n",
       "      <th></th>\n",
       "    </tr>\n",
       "  </thead>\n",
       "  <tbody>\n",
       "    <tr>\n",
       "      <th>2020-01-02</th>\n",
       "      <td>61.599998</td>\n",
       "      <td>61.599998</td>\n",
       "      <td>60.639999</td>\n",
       "      <td>61.180000</td>\n",
       "      <td>486873.0</td>\n",
       "    </tr>\n",
       "    <tr>\n",
       "      <th>2020-01-03</th>\n",
       "      <td>61.180000</td>\n",
       "      <td>64.089996</td>\n",
       "      <td>61.130001</td>\n",
       "      <td>63.049999</td>\n",
       "      <td>885861.0</td>\n",
       "    </tr>\n",
       "    <tr>\n",
       "      <th>2020-01-06</th>\n",
       "      <td>63.709999</td>\n",
       "      <td>64.720001</td>\n",
       "      <td>62.639999</td>\n",
       "      <td>63.270000</td>\n",
       "      <td>724236.0</td>\n",
       "    </tr>\n",
       "    <tr>\n",
       "      <th>2020-01-07</th>\n",
       "      <td>62.910000</td>\n",
       "      <td>63.150002</td>\n",
       "      <td>62.110001</td>\n",
       "      <td>62.700001</td>\n",
       "      <td>582649.0</td>\n",
       "    </tr>\n",
       "    <tr>\n",
       "      <th>2020-01-08</th>\n",
       "      <td>62.840000</td>\n",
       "      <td>65.650002</td>\n",
       "      <td>59.150002</td>\n",
       "      <td>59.610001</td>\n",
       "      <td>1205710.0</td>\n",
       "    </tr>\n",
       "    <tr>\n",
       "      <th>...</th>\n",
       "      <td>...</td>\n",
       "      <td>...</td>\n",
       "      <td>...</td>\n",
       "      <td>...</td>\n",
       "      <td>...</td>\n",
       "    </tr>\n",
       "    <tr>\n",
       "      <th>2022-12-23</th>\n",
       "      <td>78.180000</td>\n",
       "      <td>80.330002</td>\n",
       "      <td>77.980003</td>\n",
       "      <td>79.559998</td>\n",
       "      <td>237711.0</td>\n",
       "    </tr>\n",
       "    <tr>\n",
       "      <th>2022-12-27</th>\n",
       "      <td>79.900002</td>\n",
       "      <td>81.180000</td>\n",
       "      <td>79.160004</td>\n",
       "      <td>79.529999</td>\n",
       "      <td>199601.0</td>\n",
       "    </tr>\n",
       "    <tr>\n",
       "      <th>2022-12-28</th>\n",
       "      <td>79.889999</td>\n",
       "      <td>79.919998</td>\n",
       "      <td>77.300003</td>\n",
       "      <td>78.959999</td>\n",
       "      <td>207717.0</td>\n",
       "    </tr>\n",
       "    <tr>\n",
       "      <th>2022-12-29</th>\n",
       "      <td>78.820000</td>\n",
       "      <td>78.820000</td>\n",
       "      <td>76.790001</td>\n",
       "      <td>78.400002</td>\n",
       "      <td>199858.0</td>\n",
       "    </tr>\n",
       "    <tr>\n",
       "      <th>2022-12-30</th>\n",
       "      <td>78.730003</td>\n",
       "      <td>80.669998</td>\n",
       "      <td>77.709999</td>\n",
       "      <td>80.260002</td>\n",
       "      <td>205909.0</td>\n",
       "    </tr>\n",
       "  </tbody>\n",
       "</table>\n",
       "<p>755 rows × 5 columns</p>\n",
       "</div>"
      ],
      "text/plain": [
       "                 open       high        low      close     volume\n",
       "date                                                             \n",
       "2020-01-02  61.599998  61.599998  60.639999  61.180000   486873.0\n",
       "2020-01-03  61.180000  64.089996  61.130001  63.049999   885861.0\n",
       "2020-01-06  63.709999  64.720001  62.639999  63.270000   724236.0\n",
       "2020-01-07  62.910000  63.150002  62.110001  62.700001   582649.0\n",
       "2020-01-08  62.840000  65.650002  59.150002  59.610001  1205710.0\n",
       "...               ...        ...        ...        ...        ...\n",
       "2022-12-23  78.180000  80.330002  77.980003  79.559998   237711.0\n",
       "2022-12-27  79.900002  81.180000  79.160004  79.529999   199601.0\n",
       "2022-12-28  79.889999  79.919998  77.300003  78.959999   207717.0\n",
       "2022-12-29  78.820000  78.820000  76.790001  78.400002   199858.0\n",
       "2022-12-30  78.730003  80.669998  77.709999  80.260002   205909.0\n",
       "\n",
       "[755 rows x 5 columns]"
      ]
     },
     "metadata": {},
     "output_type": "display_data"
    }
   ],
   "source": [
    "display(data)"
   ]
  },
  {
   "cell_type": "markdown",
   "id": "0988ab77",
   "metadata": {},
   "source": [
    "Defines a list of expiration dates for future contracts"
   ]
  },
  {
   "cell_type": "code",
   "execution_count": 49,
   "id": "c42f2ad7",
   "metadata": {},
   "outputs": [],
   "source": [
    "expirations = [\n",
    "    \"2025-12\",\n",
    "    \"2026-12\",\n",
    "    \"2027-12\",\n",
    "    \"2028-12\",\n",
    "    \"2029-12\",\n",
    "    \"2030-12\",\n",
    "]"
   ]
  },
  {
   "cell_type": "markdown",
   "id": "92cc0ab8",
   "metadata": {},
   "source": [
    "Initializes an empty list to store individual contract data"
   ]
  },
  {
   "cell_type": "code",
   "execution_count": 50,
   "id": "d5ecb3c6",
   "metadata": {},
   "outputs": [],
   "source": [
    "contracts = []"
   ]
  },
  {
   "cell_type": "markdown",
   "id": "2e5eddd1",
   "metadata": {},
   "source": [
    "Iterates over each expiration date, fetching and renaming historical futures data for \"CL\", and appends it to 'contracts'"
   ]
  },
  {
   "cell_type": "code",
   "execution_count": 51,
   "id": "7ff1e042",
   "metadata": {},
   "outputs": [],
   "source": [
    "for expiration in expirations:\n",
    "    df = (\n",
    "        obb.derivatives.futures.historical(\n",
    "            symbol=\"CL\",\n",
    "            expiration=expiration,\n",
    "            start_date=\"2022-01-01\",\n",
    "            end_date=\"2024-12-31\",\n",
    "            provider=\"yfinance\",\n",
    "        )\n",
    "    ).rename(columns={\"close\": expiration})\n",
    "    contracts.append(df[expiration])"
   ]
  },
  {
   "cell_type": "markdown",
   "id": "bf3908a5",
   "metadata": {},
   "source": [
    "Combines the individual contract data into a single DataFrame, transposes it, and drops any rows with missing values"
   ]
  },
  {
   "cell_type": "code",
   "execution_count": 52,
   "id": "0ab1d8e2",
   "metadata": {},
   "outputs": [],
   "source": [
    "historical = pd.DataFrame(contracts).transpose().dropna()"
   ]
  },
  {
   "cell_type": "code",
   "execution_count": 53,
   "id": "cb92274c",
   "metadata": {},
   "outputs": [
    {
     "data": {
      "text/html": [
       "<div>\n",
       "<style scoped>\n",
       "    .dataframe tbody tr th:only-of-type {\n",
       "        vertical-align: middle;\n",
       "    }\n",
       "\n",
       "    .dataframe tbody tr th {\n",
       "        vertical-align: top;\n",
       "    }\n",
       "\n",
       "    .dataframe thead th {\n",
       "        text-align: right;\n",
       "    }\n",
       "</style>\n",
       "<table border=\"1\" class=\"dataframe\">\n",
       "  <thead>\n",
       "    <tr style=\"text-align: right;\">\n",
       "      <th></th>\n",
       "      <th>2025-12</th>\n",
       "      <th>2026-12</th>\n",
       "      <th>2027-12</th>\n",
       "      <th>2028-12</th>\n",
       "      <th>2029-12</th>\n",
       "      <th>2030-12</th>\n",
       "    </tr>\n",
       "    <tr>\n",
       "      <th>date</th>\n",
       "      <th></th>\n",
       "      <th></th>\n",
       "      <th></th>\n",
       "      <th></th>\n",
       "      <th></th>\n",
       "      <th></th>\n",
       "    </tr>\n",
       "  </thead>\n",
       "  <tbody>\n",
       "    <tr>\n",
       "      <th>2022-01-03</th>\n",
       "      <td>60.529999</td>\n",
       "      <td>59.070000</td>\n",
       "      <td>58.310001</td>\n",
       "      <td>58.060001</td>\n",
       "      <td>57.910000</td>\n",
       "      <td>58.160000</td>\n",
       "    </tr>\n",
       "    <tr>\n",
       "      <th>2022-01-04</th>\n",
       "      <td>61.220001</td>\n",
       "      <td>59.709999</td>\n",
       "      <td>58.939999</td>\n",
       "      <td>58.639999</td>\n",
       "      <td>58.540001</td>\n",
       "      <td>58.790001</td>\n",
       "    </tr>\n",
       "    <tr>\n",
       "      <th>2022-01-05</th>\n",
       "      <td>60.869999</td>\n",
       "      <td>59.360001</td>\n",
       "      <td>58.590000</td>\n",
       "      <td>58.340000</td>\n",
       "      <td>58.189999</td>\n",
       "      <td>58.439999</td>\n",
       "    </tr>\n",
       "    <tr>\n",
       "      <th>2022-01-06</th>\n",
       "      <td>61.169998</td>\n",
       "      <td>59.599998</td>\n",
       "      <td>58.830002</td>\n",
       "      <td>58.580002</td>\n",
       "      <td>58.430000</td>\n",
       "      <td>58.680000</td>\n",
       "    </tr>\n",
       "    <tr>\n",
       "      <th>2022-01-07</th>\n",
       "      <td>60.980000</td>\n",
       "      <td>59.410000</td>\n",
       "      <td>58.639999</td>\n",
       "      <td>58.389999</td>\n",
       "      <td>58.240002</td>\n",
       "      <td>58.490002</td>\n",
       "    </tr>\n",
       "    <tr>\n",
       "      <th>...</th>\n",
       "      <td>...</td>\n",
       "      <td>...</td>\n",
       "      <td>...</td>\n",
       "      <td>...</td>\n",
       "      <td>...</td>\n",
       "      <td>...</td>\n",
       "    </tr>\n",
       "    <tr>\n",
       "      <th>2024-12-24</th>\n",
       "      <td>67.019997</td>\n",
       "      <td>65.029999</td>\n",
       "      <td>63.860001</td>\n",
       "      <td>63.110001</td>\n",
       "      <td>62.599998</td>\n",
       "      <td>62.110001</td>\n",
       "    </tr>\n",
       "    <tr>\n",
       "      <th>2024-12-26</th>\n",
       "      <td>66.709999</td>\n",
       "      <td>64.739998</td>\n",
       "      <td>63.570000</td>\n",
       "      <td>62.849998</td>\n",
       "      <td>62.360001</td>\n",
       "      <td>61.869999</td>\n",
       "    </tr>\n",
       "    <tr>\n",
       "      <th>2024-12-27</th>\n",
       "      <td>67.279999</td>\n",
       "      <td>65.010002</td>\n",
       "      <td>63.700001</td>\n",
       "      <td>62.919998</td>\n",
       "      <td>62.410000</td>\n",
       "      <td>61.919998</td>\n",
       "    </tr>\n",
       "    <tr>\n",
       "      <th>2024-12-30</th>\n",
       "      <td>67.599998</td>\n",
       "      <td>65.320000</td>\n",
       "      <td>64.040001</td>\n",
       "      <td>63.279999</td>\n",
       "      <td>62.779999</td>\n",
       "      <td>62.349998</td>\n",
       "    </tr>\n",
       "    <tr>\n",
       "      <th>2024-12-31</th>\n",
       "      <td>68.190002</td>\n",
       "      <td>65.739998</td>\n",
       "      <td>64.339996</td>\n",
       "      <td>63.439999</td>\n",
       "      <td>62.840000</td>\n",
       "      <td>62.360001</td>\n",
       "    </tr>\n",
       "  </tbody>\n",
       "</table>\n",
       "<p>753 rows × 6 columns</p>\n",
       "</div>"
      ],
      "text/plain": [
       "              2025-12    2026-12    2027-12    2028-12    2029-12    2030-12\n",
       "date                                                                        \n",
       "2022-01-03  60.529999  59.070000  58.310001  58.060001  57.910000  58.160000\n",
       "2022-01-04  61.220001  59.709999  58.939999  58.639999  58.540001  58.790001\n",
       "2022-01-05  60.869999  59.360001  58.590000  58.340000  58.189999  58.439999\n",
       "2022-01-06  61.169998  59.599998  58.830002  58.580002  58.430000  58.680000\n",
       "2022-01-07  60.980000  59.410000  58.639999  58.389999  58.240002  58.490002\n",
       "...               ...        ...        ...        ...        ...        ...\n",
       "2024-12-24  67.019997  65.029999  63.860001  63.110001  62.599998  62.110001\n",
       "2024-12-26  66.709999  64.739998  63.570000  62.849998  62.360001  61.869999\n",
       "2024-12-27  67.279999  65.010002  63.700001  62.919998  62.410000  61.919998\n",
       "2024-12-30  67.599998  65.320000  64.040001  63.279999  62.779999  62.349998\n",
       "2024-12-31  68.190002  65.739998  64.339996  63.439999  62.840000  62.360001\n",
       "\n",
       "[753 rows x 6 columns]"
      ]
     },
     "metadata": {},
     "output_type": "display_data"
    }
   ],
   "source": [
    "display(historical)"
   ]
  },
  {
   "cell_type": "markdown",
   "id": "006360a4",
   "metadata": {},
   "source": [
    "Plots the data for the most recent historical contract"
   ]
  },
  {
   "cell_type": "code",
   "execution_count": 54,
   "id": "825fc3ac",
   "metadata": {},
   "outputs": [
    {
     "data": {
      "text/plain": [
       "<Axes: >"
      ]
     },
     "execution_count": 54,
     "metadata": {},
     "output_type": "execute_result"
    },
    {
     "data": {
      "image/png": "[encoded data removed]",
      "text/plain": [
       "<Figure size 640x480 with 1 Axes>"
      ]
     },
     "metadata": {},
     "output_type": "display_data"
    }
   ],
   "source": [
    "historical.iloc[-1].plot()"
   ]
  },
  {
   "cell_type": "markdown",
   "id": "836773a2",
   "metadata": {},
   "source": [
    "**Jason Strimpel** is the founder of <a href='https://pyquantnews.com/'>PyQuant News</a> and co-founder of <a href='https://www.tradeblotter.io/'>Trade Blotter</a>. His career in algorithmic trading spans 20+ years. He previously traded for a Chicago-based hedge fund, was a risk manager at JPMorgan, and managed production risk technology for an energy derivatives trading firm in London. In Singapore, he served as APAC CIO for an agricultural trading firm and built the data science team for a global metals trading firm. Jason holds degrees in Finance and Economics and a Master's in Quantitative Finance from the Illinois Institute of Technology. His career spans America, Europe, and Asia. He shares his expertise through the <a href='https://pyquantnews.com/subscribe-to-the-pyquant-newsletter/'>PyQuant Newsletter</a>, social media, and has taught over 1,000+ algorithmic trading with Python in his popular course **<a href='https://gettingstartedwithpythonforquantfinance.com/'>Getting Started With Python for Quant Finance</a>**. All code is for educational purposes only. Nothing provided here is financial advise. Use at your own risk."
   ]
  },
  {
   "cell_type": "code",
   "execution_count": null,
   "id": "3ee373a5-d06f-49fb-98e5-bc8d3f32b568",
   "metadata": {},
   "outputs": [],
   "source": []
  }
 ],
 "metadata": {
  "jupytext": {
   "cell_metadata_filter": "-all",
   "main_language": "python",
   "notebook_metadata_filter": "-all"
  },
  "kernelspec": {
   "display_name": "Python 3",
   "language": "python",
   "name": "python3"
  },
  "language_info": {
   "codemirror_mode": {
    "name": "ipython",
    "version": 3
   },
   "file_extension": ".py",
   "mimetype": "text/x-python",
   "name": "python",
   "nbconvert_exporter": "python",
   "pygments_lexer": "ipython3",
   "version": "3.10.16"
  }
 },
 "nbformat": 4,
 "nbformat_minor": 5
}
