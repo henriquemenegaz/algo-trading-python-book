{
 "cells": [
  {
   "cell_type": "markdown",
   "id": "e83c2539",
   "metadata": {},
   "source": [
    "## Harnessing factor data using pandas_datareader"
   ]
  },
  {
   "cell_type": "code",
   "execution_count": 1,
   "id": "f932e769",
   "metadata": {},
   "outputs": [
    {
     "name": "stdout",
     "output_type": "stream",
     "text": [
      "Collecting pandas_datareader\n",
      "  Downloading pandas_datareader-0.10.0-py3-none-any.whl.metadata (2.9 kB)\n",
      "Requirement already satisfied: lxml in /usr/local/lib/python3.10/site-packages (from pandas_datareader) (5.3.1)\n",
      "Requirement already satisfied: pandas>=0.23 in /usr/local/lib/python3.10/site-packages (from pandas_datareader) (2.2.3)\n",
      "Requirement already satisfied: requests>=2.19.0 in /usr/local/lib/python3.10/site-packages (from pandas_datareader) (2.32.3)\n",
      "Requirement already satisfied: numpy>=1.22.4 in /usr/local/lib/python3.10/site-packages (from pandas>=0.23->pandas_datareader) (2.1.3)\n",
      "Requirement already satisfied: python-dateutil>=2.8.2 in /usr/local/lib/python3.10/site-packages (from pandas>=0.23->pandas_datareader) (2.9.0.post0)\n",
      "Requirement already satisfied: pytz>=2020.1 in /usr/local/lib/python3.10/site-packages (from pandas>=0.23->pandas_datareader) (2025.1)\n",
      "Requirement already satisfied: tzdata>=2022.7 in /usr/local/lib/python3.10/site-packages (from pandas>=0.23->pandas_datareader) (2025.1)\n",
      "Requirement already satisfied: charset-normalizer<4,>=2 in /usr/local/lib/python3.10/site-packages (from requests>=2.19.0->pandas_datareader) (3.4.1)\n",
      "Requirement already satisfied: idna<4,>=2.5 in /usr/local/lib/python3.10/site-packages (from requests>=2.19.0->pandas_datareader) (3.10)\n",
      "Requirement already satisfied: urllib3<3,>=1.21.1 in /usr/local/lib/python3.10/site-packages (from requests>=2.19.0->pandas_datareader) (2.3.0)\n",
      "Requirement already satisfied: certifi>=2017.4.17 in /usr/local/lib/python3.10/site-packages (from requests>=2.19.0->pandas_datareader) (2025.1.31)\n",
      "Requirement already satisfied: six>=1.5 in /usr/local/lib/python3.10/site-packages (from python-dateutil>=2.8.2->pandas>=0.23->pandas_datareader) (1.17.0)\n",
      "Downloading pandas_datareader-0.10.0-py3-none-any.whl (109 kB)\n",
      "Installing collected packages: pandas_datareader\n",
      "Successfully installed pandas_datareader-0.10.0\n",
      "\u001b[33mWARNING: Running pip as the 'root' user can result in broken permissions and conflicting behaviour with the system package manager, possibly rendering your system unusable. It is recommended to use a virtual environment instead: https://pip.pypa.io/warnings/venv. Use the --root-user-action option if you know what you are doing and want to suppress this warning.\u001b[0m\u001b[33m\n",
      "\u001b[0m"
     ]
    }
   ],
   "source": [
    "#!pip install pandas_datareader"
   ]
  },
  {
   "cell_type": "code",
   "execution_count": 2,
   "id": "ec171920",
   "metadata": {},
   "outputs": [],
   "source": [
    "import warnings"
   ]
  },
  {
   "cell_type": "code",
   "execution_count": 3,
   "id": "2ac3e1ac",
   "metadata": {},
   "outputs": [],
   "source": [
    "import pandas_datareader as pdr\n",
    "from IPython.display import display"
   ]
  },
  {
   "cell_type": "code",
   "execution_count": 4,
   "id": "0d2f65cf",
   "metadata": {},
   "outputs": [],
   "source": [
    "warnings.filterwarnings(\"ignore\")"
   ]
  },
  {
   "cell_type": "markdown",
   "id": "30423d49",
   "metadata": {},
   "source": [
    "Fetches the Fama-French research data factors and stores it in 'factors'"
   ]
  },
  {
   "cell_type": "code",
   "execution_count": 13,
   "id": "4b9f5acb",
   "metadata": {},
   "outputs": [
    {
     "data": {
      "text/plain": [
       "{0:          Mkt-RF   SMB    HML    RF\n",
       " Date                              \n",
       " 2020-02   -8.13  1.07  -3.80  0.12\n",
       " 2020-03  -13.39 -4.79 -13.88  0.13\n",
       " 2020-04   13.65  2.45  -1.34  0.00\n",
       " 2020-05    5.58  2.49  -4.85  0.01\n",
       " 2020-06    2.46  2.69  -2.23  0.01\n",
       " 2020-07    5.77 -2.30  -1.44  0.01\n",
       " 2020-08    7.63 -0.28  -2.88  0.01\n",
       " 2020-09   -3.63 -0.03  -2.65  0.01\n",
       " 2020-10   -2.10  4.27   4.31  0.01\n",
       " 2020-11   12.47  5.72   2.15  0.01\n",
       " 2020-12    4.63  4.79  -1.34  0.01\n",
       " 2021-01   -0.03  7.50   2.85  0.01\n",
       " 2021-02    2.78  2.07   7.10  0.00\n",
       " 2021-03    3.08 -2.28   7.27  0.00\n",
       " 2021-04    4.93 -3.20  -0.95  0.00\n",
       " 2021-05    0.29 -0.27   7.13  0.00\n",
       " 2021-06    2.75  1.60  -7.75  0.00\n",
       " 2021-07    1.27 -3.94  -1.81  0.00\n",
       " 2021-08    2.91 -0.46  -0.10  0.00\n",
       " 2021-09   -4.37  0.67   5.10  0.00\n",
       " 2021-10    6.65 -2.37  -0.45  0.00\n",
       " 2021-11   -1.55 -1.32  -0.41  0.00\n",
       " 2021-12    3.10 -1.64   3.22  0.01\n",
       " 2022-01   -6.25 -5.96  12.80  0.00\n",
       " 2022-02   -2.29  2.19   3.10  0.00\n",
       " 2022-03    3.06 -1.66  -1.76  0.01\n",
       " 2022-04   -9.46 -1.38   6.17  0.01\n",
       " 2022-05   -0.34 -1.96   8.59  0.03\n",
       " 2022-06   -8.44  2.18  -6.10  0.06\n",
       " 2022-07    9.57  2.80  -4.03  0.08\n",
       " 2022-08   -3.77  1.40   0.29  0.19\n",
       " 2022-09   -9.35 -0.82   0.02  0.19\n",
       " 2022-10    7.83  0.07   8.06  0.23\n",
       " 2022-11    4.61 -3.51   1.41  0.29\n",
       " 2022-12   -6.41 -0.69   1.34  0.33\n",
       " 2023-01    6.64  5.01  -4.00  0.35\n",
       " 2023-02   -2.59  1.17  -0.83  0.34\n",
       " 2023-03    2.51 -5.51  -8.87  0.36\n",
       " 2023-04    0.61 -3.36  -0.05  0.35\n",
       " 2023-05    0.35  1.60  -7.74  0.36\n",
       " 2023-06    6.47  1.55  -0.20  0.40\n",
       " 2023-07    3.21  2.05   4.11  0.45\n",
       " 2023-08   -2.39 -3.20  -1.08  0.45\n",
       " 2023-09   -5.24 -2.49   1.45  0.43\n",
       " 2023-10   -3.18 -3.88   0.19  0.47\n",
       " 2023-11    8.83 -0.03   1.66  0.44\n",
       " 2023-12    4.87  6.36   4.92  0.43\n",
       " 2024-01    0.70 -5.02  -2.47  0.47\n",
       " 2024-02    5.07 -0.22  -3.52  0.42\n",
       " 2024-03    2.83 -2.51   4.22  0.43\n",
       " 2024-04   -4.67 -2.39  -0.52  0.47\n",
       " 2024-05    4.34  0.78  -1.67  0.44\n",
       " 2024-06    2.77 -3.06  -3.31  0.41\n",
       " 2024-07    1.24  6.80   5.74  0.45\n",
       " 2024-08    1.61 -3.55  -1.13  0.48\n",
       " 2024-09    1.74 -0.17  -2.59  0.40\n",
       " 2024-10   -0.97 -1.01   0.89  0.39\n",
       " 2024-11    6.51  4.63  -0.05  0.40\n",
       " 2024-12   -3.17 -2.73  -2.95  0.37,\n",
       " 1:       Mkt-RF    SMB    HML    RF\n",
       " Date                            \n",
       " 2020   23.66  12.72 -46.10  0.45\n",
       " 2021   23.57  -3.78  25.39  0.04\n",
       " 2022  -21.58  -7.04  25.97  1.43\n",
       " 2023   21.69  -3.28 -13.70  4.95\n",
       " 2024   19.78 -11.13  -9.10  5.26,\n",
       " 'DESCR': 'F-F Research Data Factors\\n-------------------------\\n\\nThis file was created by CMPT_ME_BEME_RETS using the 202412 CRSP database. The 1-month TBill rate data until 202405 are from Ibbotson Associates. Starting from 202406, the 1-month TBill rate is from ICE BofA US 1-Month Treasury Bill Index. Copyright 2024 Eugene F. Fama and Kenneth R. French\\n\\n  0 : (59 rows x 4 cols)\\n  1 : Annual Factors: January-December (5 rows x 4 cols)'}"
      ]
     },
     "execution_count": 13,
     "metadata": {},
     "output_type": "execute_result"
    }
   ],
   "source": [
    "factors = pdr.get_data_famafrench(\n",
    "    \"F-F_Research_Data_Factors\",\n",
    ")\n",
    "factors"
   ]
  },
  {
   "cell_type": "code",
   "execution_count": 6,
   "id": "e8a1418f",
   "metadata": {},
   "outputs": [
    {
     "data": {
      "text/plain": [
       "'F-F Research Data Factors\\n-------------------------\\n\\nThis file was created by CMPT_ME_BEME_RETS using the 202412 CRSP database. The 1-month TBill rate data until 202405 are from Ibbotson Associates. Starting from 202406, the 1-month TBill rate is from ICE BofA US 1-Month Treasury Bill Index. Copyright 2024 Eugene F. Fama and Kenneth R. French\\n\\n  0 : (59 rows x 4 cols)\\n  1 : Annual Factors: January-December (5 rows x 4 cols)'"
      ]
     },
     "metadata": {},
     "output_type": "display_data"
    }
   ],
   "source": [
    "display(factors[\"DESCR\"])"
   ]
  },
  {
   "cell_type": "markdown",
   "id": "289f62f0",
   "metadata": {},
   "source": [
    "Displays the first few rows of the first (monthly) dataset in 'factors'"
   ]
  },
  {
   "cell_type": "code",
   "execution_count": 7,
   "id": "40bc442f",
   "metadata": {},
   "outputs": [],
   "source": [
    "data = factors[0].head()"
   ]
  },
  {
   "cell_type": "code",
   "execution_count": 8,
   "id": "3c08b717",
   "metadata": {},
   "outputs": [
    {
     "data": {
      "text/html": [
       "<div>\n",
       "<style scoped>\n",
       "    .dataframe tbody tr th:only-of-type {\n",
       "        vertical-align: middle;\n",
       "    }\n",
       "\n",
       "    .dataframe tbody tr th {\n",
       "        vertical-align: top;\n",
       "    }\n",
       "\n",
       "    .dataframe thead th {\n",
       "        text-align: right;\n",
       "    }\n",
       "</style>\n",
       "<table border=\"1\" class=\"dataframe\">\n",
       "  <thead>\n",
       "    <tr style=\"text-align: right;\">\n",
       "      <th></th>\n",
       "      <th>Mkt-RF</th>\n",
       "      <th>SMB</th>\n",
       "      <th>HML</th>\n",
       "      <th>RF</th>\n",
       "    </tr>\n",
       "    <tr>\n",
       "      <th>Date</th>\n",
       "      <th></th>\n",
       "      <th></th>\n",
       "      <th></th>\n",
       "      <th></th>\n",
       "    </tr>\n",
       "  </thead>\n",
       "  <tbody>\n",
       "    <tr>\n",
       "      <th>2020-02</th>\n",
       "      <td>-8.13</td>\n",
       "      <td>1.07</td>\n",
       "      <td>-3.80</td>\n",
       "      <td>0.12</td>\n",
       "    </tr>\n",
       "    <tr>\n",
       "      <th>2020-03</th>\n",
       "      <td>-13.39</td>\n",
       "      <td>-4.79</td>\n",
       "      <td>-13.88</td>\n",
       "      <td>0.13</td>\n",
       "    </tr>\n",
       "    <tr>\n",
       "      <th>2020-04</th>\n",
       "      <td>13.65</td>\n",
       "      <td>2.45</td>\n",
       "      <td>-1.34</td>\n",
       "      <td>0.00</td>\n",
       "    </tr>\n",
       "    <tr>\n",
       "      <th>2020-05</th>\n",
       "      <td>5.58</td>\n",
       "      <td>2.49</td>\n",
       "      <td>-4.85</td>\n",
       "      <td>0.01</td>\n",
       "    </tr>\n",
       "    <tr>\n",
       "      <th>2020-06</th>\n",
       "      <td>2.46</td>\n",
       "      <td>2.69</td>\n",
       "      <td>-2.23</td>\n",
       "      <td>0.01</td>\n",
       "    </tr>\n",
       "  </tbody>\n",
       "</table>\n",
       "</div>"
      ],
      "text/plain": [
       "         Mkt-RF   SMB    HML    RF\n",
       "Date                              \n",
       "2020-02   -8.13  1.07  -3.80  0.12\n",
       "2020-03  -13.39 -4.79 -13.88  0.13\n",
       "2020-04   13.65  2.45  -1.34  0.00\n",
       "2020-05    5.58  2.49  -4.85  0.01\n",
       "2020-06    2.46  2.69  -2.23  0.01"
      ]
     },
     "metadata": {},
     "output_type": "display_data"
    }
   ],
   "source": [
    "display(data)"
   ]
  },
  {
   "cell_type": "markdown",
   "id": "67f824e3",
   "metadata": {},
   "source": [
    "Displays the first few rows of the second dataset (annual) in 'factors'"
   ]
  },
  {
   "cell_type": "code",
   "execution_count": 9,
   "id": "aa37402f",
   "metadata": {},
   "outputs": [],
   "source": [
    "data = factors[1].head()"
   ]
  },
  {
   "cell_type": "code",
   "execution_count": 10,
   "id": "64c1869d",
   "metadata": {},
   "outputs": [
    {
     "data": {
      "text/html": [
       "<div>\n",
       "<style scoped>\n",
       "    .dataframe tbody tr th:only-of-type {\n",
       "        vertical-align: middle;\n",
       "    }\n",
       "\n",
       "    .dataframe tbody tr th {\n",
       "        vertical-align: top;\n",
       "    }\n",
       "\n",
       "    .dataframe thead th {\n",
       "        text-align: right;\n",
       "    }\n",
       "</style>\n",
       "<table border=\"1\" class=\"dataframe\">\n",
       "  <thead>\n",
       "    <tr style=\"text-align: right;\">\n",
       "      <th></th>\n",
       "      <th>Mkt-RF</th>\n",
       "      <th>SMB</th>\n",
       "      <th>HML</th>\n",
       "      <th>RF</th>\n",
       "    </tr>\n",
       "    <tr>\n",
       "      <th>Date</th>\n",
       "      <th></th>\n",
       "      <th></th>\n",
       "      <th></th>\n",
       "      <th></th>\n",
       "    </tr>\n",
       "  </thead>\n",
       "  <tbody>\n",
       "    <tr>\n",
       "      <th>2020</th>\n",
       "      <td>23.66</td>\n",
       "      <td>12.72</td>\n",
       "      <td>-46.10</td>\n",
       "      <td>0.45</td>\n",
       "    </tr>\n",
       "    <tr>\n",
       "      <th>2021</th>\n",
       "      <td>23.57</td>\n",
       "      <td>-3.78</td>\n",
       "      <td>25.39</td>\n",
       "      <td>0.04</td>\n",
       "    </tr>\n",
       "    <tr>\n",
       "      <th>2022</th>\n",
       "      <td>-21.58</td>\n",
       "      <td>-7.04</td>\n",
       "      <td>25.97</td>\n",
       "      <td>1.43</td>\n",
       "    </tr>\n",
       "    <tr>\n",
       "      <th>2023</th>\n",
       "      <td>21.69</td>\n",
       "      <td>-3.28</td>\n",
       "      <td>-13.70</td>\n",
       "      <td>4.95</td>\n",
       "    </tr>\n",
       "    <tr>\n",
       "      <th>2024</th>\n",
       "      <td>19.78</td>\n",
       "      <td>-11.13</td>\n",
       "      <td>-9.10</td>\n",
       "      <td>5.26</td>\n",
       "    </tr>\n",
       "  </tbody>\n",
       "</table>\n",
       "</div>"
      ],
      "text/plain": [
       "      Mkt-RF    SMB    HML    RF\n",
       "Date                            \n",
       "2020   23.66  12.72 -46.10  0.45\n",
       "2021   23.57  -3.78  25.39  0.04\n",
       "2022  -21.58  -7.04  25.97  1.43\n",
       "2023   21.69  -3.28 -13.70  4.95\n",
       "2024   19.78 -11.13  -9.10  5.26"
      ]
     },
     "metadata": {},
     "output_type": "display_data"
    }
   ],
   "source": [
    "display(data)"
   ]
  },
  {
   "cell_type": "markdown",
   "id": "c4e33ca2",
   "metadata": {},
   "source": [
    "Fetches the Fama-French research data factors within the specified date range and stores it in 'factors'"
   ]
  },
  {
   "cell_type": "code",
   "execution_count": 14,
   "id": "e3089efc",
   "metadata": {},
   "outputs": [],
   "source": [
    "factors = pdr.get_data_famafrench(\n",
    "    \"F-F_Research_Data_Factors\", start=\"2000-01-01\", end=\"2023-12-31\"\n",
    ")"
   ]
  },
  {
   "cell_type": "code",
   "execution_count": 15,
   "id": "508a3e51",
   "metadata": {},
   "outputs": [
    {
     "data": {
      "text/plain": [
       "{0:          Mkt-RF    SMB   HML    RF\n",
       " Date                              \n",
       " 2000-01   -4.74   5.77 -1.88  0.41\n",
       " 2000-02    2.45  21.36 -9.59  0.43\n",
       " 2000-03    5.20 -17.20  8.13  0.47\n",
       " 2000-04   -6.40  -6.68  7.26  0.46\n",
       " 2000-05   -4.42  -6.05  4.75  0.50\n",
       " ...         ...    ...   ...   ...\n",
       " 2023-08   -2.39  -3.20 -1.08  0.45\n",
       " 2023-09   -5.24  -2.49  1.45  0.43\n",
       " 2023-10   -3.18  -3.88  0.19  0.47\n",
       " 2023-11    8.83  -0.03  1.66  0.44\n",
       " 2023-12    4.87   6.36  4.92  0.43\n",
       " \n",
       " [288 rows x 4 columns],\n",
       " 1:       Mkt-RF    SMB    HML    RF\n",
       " Date                            \n",
       " 2000  -17.60  -4.60  44.98  5.89\n",
       " 2001  -15.21  18.16  18.52  3.83\n",
       " 2002  -22.76   4.39   8.09  1.65\n",
       " 2003   30.75  26.49   4.67  1.02\n",
       " 2004   10.72   4.45   7.61  1.20\n",
       " 2005    3.09  -2.36   9.41  2.98\n",
       " 2006   10.60   0.09  11.93  4.80\n",
       " 2007    1.04  -7.44 -17.18  4.66\n",
       " 2008  -38.34   2.40   1.05  1.60\n",
       " 2009   28.26   9.18  -9.65  0.10\n",
       " 2010   17.37  14.15  -5.15  0.12\n",
       " 2011    0.44  -5.73  -8.41  0.04\n",
       " 2012   16.27  -1.40  10.00  0.06\n",
       " 2013   35.20   7.72   2.60  0.02\n",
       " 2014   11.71  -7.82  -1.45  0.02\n",
       " 2015    0.09  -4.00  -9.67  0.02\n",
       " 2016   13.30   6.77  22.71  0.20\n",
       " 2017   21.51  -5.09 -13.59  0.80\n",
       " 2018   -6.94  -3.11  -9.77  1.83\n",
       " 2019   28.28  -6.13 -10.37  2.15\n",
       " 2020   23.66  12.72 -46.10  0.45\n",
       " 2021   23.57  -3.78  25.39  0.04\n",
       " 2022  -21.58  -7.04  25.97  1.43\n",
       " 2023   21.69  -3.28 -13.70  4.95,\n",
       " 'DESCR': 'F-F Research Data Factors\\n-------------------------\\n\\nThis file was created by CMPT_ME_BEME_RETS using the 202412 CRSP database. The 1-month TBill rate data until 202405 are from Ibbotson Associates. Starting from 202406, the 1-month TBill rate is from ICE BofA US 1-Month Treasury Bill Index. Copyright 2024 Eugene F. Fama and Kenneth R. French\\n\\n  0 : (288 rows x 4 cols)\\n  1 : Annual Factors: January-December (24 rows x 4 cols)'}"
      ]
     },
     "metadata": {},
     "output_type": "display_data"
    }
   ],
   "source": [
    "display(factors)"
   ]
  },
  {
   "cell_type": "markdown",
   "id": "095c43d5",
   "metadata": {},
   "source": [
    "**Jason Strimpel** is the founder of <a href='https://pyquantnews.com/'>PyQuant News</a> and co-founder of <a href='https://www.tradeblotter.io/'>Trade Blotter</a>. His career in algorithmic trading spans 20+ years. He previously traded for a Chicago-based hedge fund, was a risk manager at JPMorgan, and managed production risk technology for an energy derivatives trading firm in London. In Singapore, he served as APAC CIO for an agricultural trading firm and built the data science team for a global metals trading firm. Jason holds degrees in Finance and Economics and a Master's in Quantitative Finance from the Illinois Institute of Technology. His career spans America, Europe, and Asia. He shares his expertise through the <a href='https://pyquantnews.com/subscribe-to-the-pyquant-newsletter/'>PyQuant Newsletter</a>, social media, and has taught over 1,000+ algorithmic trading with Python in his popular course **<a href='https://gettingstartedwithpythonforquantfinance.com/'>Getting Started With Python for Quant Finance</a>**. All code is for educational purposes only. Nothing provided here is financial advise. Use at your own risk."
   ]
  },
  {
   "cell_type": "code",
   "execution_count": null,
   "id": "6a3b9759-1bad-4795-9ed7-832cf38819b7",
   "metadata": {},
   "outputs": [],
   "source": []
  }
 ],
 "metadata": {
  "jupytext": {
   "cell_metadata_filter": "-all",
   "main_language": "python",
   "notebook_metadata_filter": "-all"
  },
  "kernelspec": {
   "display_name": "Python 3",
   "language": "python",
   "name": "python3"
  },
  "language_info": {
   "codemirror_mode": {
    "name": "ipython",
    "version": 3
   },
   "file_extension": ".py",
   "mimetype": "text/x-python",
   "name": "python",
   "nbconvert_exporter": "python",
   "pygments_lexer": "ipython3",
   "version": "3.10.16"
  }
 },
 "nbformat": 4,
 "nbformat_minor": 5
}
