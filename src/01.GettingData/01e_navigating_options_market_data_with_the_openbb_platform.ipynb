{
 "cells": [
  {
   "cell_type": "markdown",
   "id": "6bc7b9d8",
   "metadata": {},
   "source": [
    "## Navigating options market data with the OpenBB Platform"
   ]
  },
  {
   "cell_type": "code",
   "execution_count": 1,
   "id": "097d7d8f",
   "metadata": {},
   "outputs": [],
   "source": [
    "from IPython.display import display\n",
    "from openbb import obb"
   ]
  },
  {
   "cell_type": "code",
   "execution_count": 2,
   "id": "154f9ac6",
   "metadata": {},
   "outputs": [],
   "source": [
    "obb.user.preferences.output_type = \"dataframe\""
   ]
  },
  {
   "cell_type": "markdown",
   "id": "2d78fbd3",
   "metadata": {},
   "source": [
    "Fetches options chains for the symbol \"SPY\" and stores it in 'chains'"
   ]
  },
  {
   "cell_type": "code",
   "execution_count": 3,
   "id": "a99c279c",
   "metadata": {},
   "outputs": [],
   "source": [
    "chains = obb.derivatives.options.chains(symbol=\"SPY\")"
   ]
  },
  {
   "cell_type": "code",
   "execution_count": null,
   "id": "4e5a2f88",
   "metadata": {},
   "outputs": [
    {
     "name": "stdout",
     "output_type": "stream",
     "text": [
      "<class 'pandas.core.frame.DataFrame'>\n",
      "RangeIndex: 9542 entries, 0 to 9541\n",
      "Data columns (total 29 columns):\n",
      " #   Column              Non-Null Count  Dtype         \n",
      "---  ------              --------------  -----         \n",
      " 0   underlying_symbol   9542 non-null   object        \n",
      " 1   underlying_price    9542 non-null   float64       \n",
      " 2   contract_symbol     9542 non-null   object        \n",
      " 3   expiration          9542 non-null   object        \n",
      " 4   dte                 9542 non-null   int64         \n",
      " 5   strike              9542 non-null   float64       \n",
      " 6   option_type         9542 non-null   object        \n",
      " 7   open_interest       9542 non-null   int64         \n",
      " 8   volume              9542 non-null   int64         \n",
      " 9   theoretical_price   9542 non-null   float64       \n",
      " 10  last_trade_price    9542 non-null   float64       \n",
      " 11  last_trade_time     8182 non-null   datetime64[ns]\n",
      " 12  tick                9542 non-null   object        \n",
      " 13  bid                 9542 non-null   float64       \n",
      " 14  bid_size            9542 non-null   int64         \n",
      " 15  ask                 9542 non-null   float64       \n",
      " 16  ask_size            9542 non-null   int64         \n",
      " 17  open                9542 non-null   float64       \n",
      " 18  high                9542 non-null   float64       \n",
      " 19  low                 9542 non-null   float64       \n",
      " 20  prev_close          9542 non-null   float64       \n",
      " 21  change              9542 non-null   float64       \n",
      " 22  change_percent      9542 non-null   float64       \n",
      " 23  implied_volatility  9542 non-null   float64       \n",
      " 24  delta               9542 non-null   float64       \n",
      " 25  gamma               9542 non-null   float64       \n",
      " 26  theta               9542 non-null   float64       \n",
      " 27  vega                9542 non-null   float64       \n",
      " 28  rho                 9542 non-null   float64       \n",
      "dtypes: datetime64[ns](1), float64(18), int64(5), object(5)\n",
      "memory usage: 2.1+ MB\n"
     ]
    },
    {
     "data": {
      "text/plain": [
       "None"
      ]
     },
     "metadata": {},
     "output_type": "display_data"
    }
   ],
   "source": [
    "display(chains.info())"
   ]
  },
  {
   "cell_type": "markdown",
   "id": "90c6a378",
   "metadata": {},
   "source": [
    "Fetches historical price data for the specified option symbol using the \"yfinance\" provider and selects the \"close\" and \"volume\" columns"
   ]
  },
  {
   "cell_type": "code",
   "execution_count": 6,
   "id": "b185aa90",
   "metadata": {},
   "outputs": [],
   "source": [
    "historic = obb.equity.price.historical(\n",
    "    symbol=\"SPY251219C00650000\", provider=\"yfinance\"\n",
    ")[[\"close\", \"volume\"]]"
   ]
  },
  {
   "cell_type": "code",
   "execution_count": 6,
   "id": "ab4c65de",
   "metadata": {},
   "outputs": [
    {
     "data": {
      "text/html": [
       "<div>\n",
       "<style scoped>\n",
       "    .dataframe tbody tr th:only-of-type {\n",
       "        vertical-align: middle;\n",
       "    }\n",
       "\n",
       "    .dataframe tbody tr th {\n",
       "        vertical-align: top;\n",
       "    }\n",
       "\n",
       "    .dataframe thead th {\n",
       "        text-align: right;\n",
       "    }\n",
       "</style>\n",
       "<table border=\"1\" class=\"dataframe\">\n",
       "  <thead>\n",
       "    <tr style=\"text-align: right;\">\n",
       "      <th></th>\n",
       "      <th>close</th>\n",
       "      <th>volume</th>\n",
       "    </tr>\n",
       "    <tr>\n",
       "      <th>date</th>\n",
       "      <th></th>\n",
       "      <th></th>\n",
       "    </tr>\n",
       "  </thead>\n",
       "  <tbody>\n",
       "    <tr>\n",
       "      <th>2023-06-15</th>\n",
       "      <td>5.840000</td>\n",
       "      <td>0</td>\n",
       "    </tr>\n",
       "    <tr>\n",
       "      <th>2023-06-16</th>\n",
       "      <td>5.630000</td>\n",
       "      <td>129</td>\n",
       "    </tr>\n",
       "    <tr>\n",
       "      <th>2023-06-22</th>\n",
       "      <td>4.600000</td>\n",
       "      <td>16</td>\n",
       "    </tr>\n",
       "    <tr>\n",
       "      <th>2023-06-23</th>\n",
       "      <td>4.000000</td>\n",
       "      <td>5</td>\n",
       "    </tr>\n",
       "    <tr>\n",
       "      <th>2023-06-26</th>\n",
       "      <td>4.140000</td>\n",
       "      <td>18</td>\n",
       "    </tr>\n",
       "    <tr>\n",
       "      <th>...</th>\n",
       "      <td>...</td>\n",
       "      <td>...</td>\n",
       "    </tr>\n",
       "    <tr>\n",
       "      <th>2024-06-10</th>\n",
       "      <td>19.400000</td>\n",
       "      <td>0</td>\n",
       "    </tr>\n",
       "    <tr>\n",
       "      <th>2024-06-11</th>\n",
       "      <td>19.950001</td>\n",
       "      <td>230</td>\n",
       "    </tr>\n",
       "    <tr>\n",
       "      <th>2024-06-12</th>\n",
       "      <td>22.540001</td>\n",
       "      <td>1054</td>\n",
       "    </tr>\n",
       "    <tr>\n",
       "      <th>2024-06-13</th>\n",
       "      <td>22.910000</td>\n",
       "      <td>2008</td>\n",
       "    </tr>\n",
       "    <tr>\n",
       "      <th>2024-06-14</th>\n",
       "      <td>23.000000</td>\n",
       "      <td>1286</td>\n",
       "    </tr>\n",
       "  </tbody>\n",
       "</table>\n",
       "<p>236 rows × 2 columns</p>\n",
       "</div>"
      ],
      "text/plain": [
       "                close  volume\n",
       "date                         \n",
       "2023-06-15   5.840000       0\n",
       "2023-06-16   5.630000     129\n",
       "2023-06-22   4.600000      16\n",
       "2023-06-23   4.000000       5\n",
       "2023-06-26   4.140000      18\n",
       "...               ...     ...\n",
       "2024-06-10  19.400000       0\n",
       "2024-06-11  19.950001     230\n",
       "2024-06-12  22.540001    1054\n",
       "2024-06-13  22.910000    2008\n",
       "2024-06-14  23.000000    1286\n",
       "\n",
       "[236 rows x 2 columns]"
      ]
     },
     "metadata": {},
     "output_type": "display_data"
    }
   ],
   "source": [
    "display(historic)"
   ]
  },
  {
   "cell_type": "markdown",
   "id": "d104b4e9",
   "metadata": {},
   "source": [
    "Plots the historical \"close\" price data"
   ]
  },
  {
   "cell_type": "code",
   "execution_count": 7,
   "id": "d12aab32",
   "metadata": {},
   "outputs": [
    {
     "data": {
      "text/plain": [
       "<Axes: xlabel='date'>"
      ]
     },
     "execution_count": 7,
     "metadata": {},
     "output_type": "execute_result"
    },
    {
     "data": {
      "image/png": "[encoded data removed]",
      "text/plain": [
       "<Figure size 640x480 with 1 Axes>"
      ]
     },
     "metadata": {},
     "output_type": "display_data"
    }
   ],
   "source": [
    "historic.close.plot()"
   ]
  },
  {
   "cell_type": "markdown",
   "id": "0c370bac",
   "metadata": {},
   "source": [
    "**Jason Strimpel** is the founder of <a href='https://pyquantnews.com/'>PyQuant News</a> and co-founder of <a href='https://www.tradeblotter.io/'>Trade Blotter</a>. His career in algorithmic trading spans 20+ years. He previously traded for a Chicago-based hedge fund, was a risk manager at JPMorgan, and managed production risk technology for an energy derivatives trading firm in London. In Singapore, he served as APAC CIO for an agricultural trading firm and built the data science team for a global metals trading firm. Jason holds degrees in Finance and Economics and a Master's in Quantitative Finance from the Illinois Institute of Technology. His career spans America, Europe, and Asia. He shares his expertise through the <a href='https://pyquantnews.com/subscribe-to-the-pyquant-newsletter/'>PyQuant Newsletter</a>, social media, and has taught over 1,000+ algorithmic trading with Python in his popular course **<a href='https://gettingstartedwithpythonforquantfinance.com/'>Getting Started With Python for Quant Finance</a>**. All code is for educational purposes only. Nothing provided here is financial advise. Use at your own risk."
   ]
  }
 ],
 "metadata": {
  "jupytext": {
   "cell_metadata_filter": "-all",
   "main_language": "python",
   "notebook_metadata_filter": "-all"
  },
  "kernelspec": {
   "display_name": "Python 3",
   "language": "python",
   "name": "python3"
  },
  "language_info": {
   "codemirror_mode": {
    "name": "ipython",
    "version": 3
   },
   "file_extension": ".py",
   "mimetype": "text/x-python",
   "name": "python",
   "nbconvert_exporter": "python",
   "pygments_lexer": "ipython3",
   "version": "3.10.16"
  }
 },
 "nbformat": 4,
 "nbformat_minor": 5
}
